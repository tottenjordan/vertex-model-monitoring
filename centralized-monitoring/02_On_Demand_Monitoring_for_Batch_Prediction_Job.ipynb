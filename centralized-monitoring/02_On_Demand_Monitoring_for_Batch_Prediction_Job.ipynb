{
  "cells": [
    {
      "cell_type": "markdown",
      "source": [
        "# On Demand Model Monitoring Job with Batch Prediction Job\n",
        "<table align=\"left\">\n",
        "  <td>\n",
        "    <a href=\"https://colab.research.google.com/drive/1ZjdtQ-VsaZ9TKrm5pAYzUzDfG0IIyLq_#scrollTo=ndfGn8c4bI_G\">\n",
        "      <img src=\"https://cloud.google.com/ml-engine/images/colab-logo-32px.png\" alt=\"Colab logo\"> Run in Colab\n",
        "    </a>\n",
        "  </td>\n",
        "  <td>\n",
        "    <a href=\"https://console.cloud.google.com/vertex-ai/workbench/deploy-notebook?download_url=https://storage.googleapis.com/cmm-public-data/notebooks/On_Demand_Model_Monitoring_Job_with_Batch_Prediction_Job.ipynb\">\n",
        "       <img src=\"https://www.gstatic.com/cloud/images/navigation/vertex-ai.svg\" alt=\"Vertex AI logo\">Open in Vertex AI Workbench\n",
        "    </a>\n",
        "  </td>\n",
        "</table>"
      ],
      "metadata": {
        "id": "ndfGn8c4bI_G"
      }
    },
    {
      "cell_type": "markdown",
      "source": [
        "## Step 1: Authentication"
      ],
      "metadata": {
        "id": "QNiB5LfBaft-"
      }
    },
    {
      "cell_type": "markdown",
      "source": [
        "Depending on your Jupyter environment, you may have to manually authenticate. Follow the relevant instructions below.\n",
        "\n",
        "**1. Vertex AI Workbench**\n",
        "* Do nothing as you are already authenticated."
      ],
      "metadata": {
        "id": "VB_ARmwRky9t"
      }
    },
    {
      "cell_type": "markdown",
      "source": [
        "**2. Colab, run:**"
      ],
      "metadata": {
        "id": "tz1Odi-ZkLRP"
      }
    },
    {
      "cell_type": "code",
      "source": [
        "from google.colab import auth\n",
        "auth.authenticate_user()"
      ],
      "metadata": {
        "id": "DZvan2XPagGN"
      },
      "execution_count": null,
      "outputs": []
    },
    {
      "cell_type": "markdown",
      "source": [
        "\n",
        "**3. Local JupyterLab instance, uncomment and run:**"
      ],
      "metadata": {
        "id": "6_OkGn2mlB5V"
      }
    },
    {
      "cell_type": "code",
      "source": [
        "# ! gcloud auth login"
      ],
      "metadata": {
        "id": "-Xf5yAablC_d"
      },
      "execution_count": null,
      "outputs": []
    },
    {
      "cell_type": "markdown",
      "source": [
        "**4. Service account or other**\n",
        "* See how to grant Cloud Storage permissions to your service account at https://cloud.google.com/storage/docs/gsutil/commands/iam#ch-examples."
      ],
      "metadata": {
        "id": "TvY0RukOlJoi"
      }
    },
    {
      "cell_type": "markdown",
      "metadata": {
        "id": "f3848df1e5b0"
      },
      "source": [
        "## Step 2: Installations & Setup\n",
        "### Install the following packages to execute this notebook."
      ]
    },
    {
      "cell_type": "code",
      "source": [
        "! pip3 install --upgrade --quiet \\\n",
        "    google-cloud-aiplatform \\\n",
        "    google-cloud-bigquery \\\n",
        "    pandas-gbq \\\n",
        "    'tensorflow_data_validation[visualization]<2'\n",
        "\n",
        "# Model Monitoring Experimental SDK\n",
        "! gsutil cp gs://cmm-public-data/sdk/google_cloud_aiplatform-1.36.dev20231025+centralized.model.monitoring-py2.py3-none-any.whl .\n",
        "! pip install --quiet google_cloud_aiplatform-1.36.dev20231025+centralized.model.monitoring-py2.py3-none-any.whl"
      ],
      "metadata": {
        "id": "3gT2fULbe7cm"
      },
      "execution_count": null,
      "outputs": []
    },
    {
      "cell_type": "markdown",
      "source": [
        "### Restart the kernel (only for Colab)"
      ],
      "metadata": {
        "id": "U4o9GjHNfHdI"
      }
    },
    {
      "cell_type": "code",
      "source": [
        "# Automatically restart kernel after installs so that your environment can access the new packages\n",
        "import IPython\n",
        "\n",
        "app = IPython.Application.instance()\n",
        "app.kernel.do_shutdown(True)"
      ],
      "metadata": {
        "id": "JaY8Q_T3fA38"
      },
      "execution_count": null,
      "outputs": []
    },
    {
      "cell_type": "markdown",
      "source": [
        "### Setup GCP Project ID and Initialize Vertex AI SDK for Python"
      ],
      "metadata": {
        "id": "g_ByJf38kdCq"
      }
    },
    {
      "cell_type": "code",
      "source": [
        "import os\n",
        "\n",
        "PROJECT_ID = \"[your-project-id]\" # @param {type:\"string\"}\n",
        "# set the project id\n",
        "! gcloud config set project $PROJECT_ID\n",
        "os.environ[\"GOOGLE_CLOUD_PROJECT\"] = PROJECT_ID\n",
        "\n",
        "REGION = \"us-central1\"\n",
        "! gcloud config set ai/region $REGION"
      ],
      "metadata": {
        "id": "5-2bPPRXkjyM"
      },
      "execution_count": null,
      "outputs": []
    },
    {
      "cell_type": "code",
      "source": [
        "# Initialize Vertex AI SDK for Python\n",
        "import google.cloud.aiplatform as aiplatform\n",
        "\n",
        "aiplatform.init(project=PROJECT_ID, location=REGION)"
      ],
      "metadata": {
        "id": "6fQqte0VAYo1"
      },
      "execution_count": null,
      "outputs": []
    },
    {
      "cell_type": "markdown",
      "source": [
        "### Create a Cloud Storage bucket\n",
        "\n",
        "Create a storage bucket to store intermediate artifacts such as datasets."
      ],
      "metadata": {
        "id": "l_BdNCfk7Hjz"
      }
    },
    {
      "cell_type": "code",
      "source": [
        "# Create a Cloud Storage bucket\n",
        "BUCKET_URI = f\"gs://your-bucket-name-{PROJECT_ID}-unique\"  # @param {type:\"string\"}"
      ],
      "metadata": {
        "id": "3_CZRJ5L60Mi"
      },
      "execution_count": null,
      "outputs": []
    },
    {
      "cell_type": "markdown",
      "source": [
        "**Only if your bucket doesn't already exist**: Run the following cell to create your Cloud Storage bucket."
      ],
      "metadata": {
        "id": "lvHsyHsi7Dg8"
      }
    },
    {
      "cell_type": "code",
      "source": [
        "! gsutil mb -l {REGION} -p {PROJECT_ID} {BUCKET_URI}"
      ],
      "metadata": {
        "id": "mrHlJi-e7AyX"
      },
      "execution_count": null,
      "outputs": []
    },
    {
      "cell_type": "markdown",
      "source": [
        "## Step 3: Prepare a Model in Vertex AI Model Registry"
      ],
      "metadata": {
        "id": "5ZLxDjB6lYXx"
      }
    },
    {
      "cell_type": "code",
      "source": [
        "import google.cloud.aiplatform as aiplatform\n",
        "\n",
        "MODEL_PATH = \"gs://mco-mm/churn\"\n",
        "MODEL_NAME = \"churn\"\n",
        "IMAGE = \"us-docker.pkg.dev/cloud-aiplatform/prediction/tf2-cpu.2-5:latest\"\n",
        "\n",
        "model = aiplatform.Model.upload(\n",
        "    display_name=MODEL_NAME,\n",
        "    artifact_uri=MODEL_PATH,\n",
        "    serving_container_image_uri=IMAGE,\n",
        "    sync=True\n",
        ")\n",
        "\n",
        "MODEL_ID = model.resource_name.split(\"/\")[-1]"
      ],
      "metadata": {
        "id": "SwrD1CnmmJsk"
      },
      "execution_count": null,
      "outputs": []
    },
    {
      "cell_type": "markdown",
      "source": [
        "## Step 4: Create a batch prediction job"
      ],
      "metadata": {
        "id": "dkHlwQuVli_2"
      }
    },
    {
      "cell_type": "markdown",
      "source": [
        "This step submits the batch prediction request. If successful, it returns a JSON document summarizing the request, which is displayed in the cell output below."
      ],
      "metadata": {
        "id": "Db0WgDg5BEdp"
      }
    },
    {
      "cell_type": "code",
      "source": [
        "batch_prediction_job = model.batch_predict(\n",
        "  job_display_name=\"bp_mm_demo\",\n",
        "  instances_format=\"jsonl\",\n",
        "  machine_type=\"n1-standard-4\",\n",
        "  gcs_source=[\"gs://bp_mm_public_data/churn/churn_bp_outsample.jsonl\"],\n",
        "  gcs_destination_prefix=f\"{BUCKET_URI}/bp_mm_output\",\n",
        "  sync=False\n",
        ")"
      ],
      "metadata": {
        "id": "szFeKJW4bBY2"
      },
      "execution_count": null,
      "outputs": []
    },
    {
      "cell_type": "markdown",
      "source": [
        "## Step 5: Create a Model Monitor"
      ],
      "metadata": {
        "id": "RuwAoHTilv1j"
      }
    },
    {
      "cell_type": "code",
      "source": [
        "from google.cloud.aiplatform.private_preview.centralized_model_monitoring import model_monitor\n",
        "\n",
        "my_model_monitor = model_monitor.ModelMonitor.create(\n",
        "    project=PROJECT_ID,\n",
        "    location=REGION,\n",
        "    display_name=\"churn_model_monitor\",\n",
        "    model_name=model.resource_name,\n",
        "    model_version_id=\"1\")\n",
        "MODEL_MONITOR_ID = my_model_monitor.name\n",
        "print(f\"MODEL MONITOR {MODEL_MONITOR_ID} created.\")"
      ],
      "metadata": {
        "id": "l_d917Ory595"
      },
      "execution_count": null,
      "outputs": []
    },
    {
      "cell_type": "markdown",
      "source": [
        "## Step 6: Create a Model Monitoring Job"
      ],
      "metadata": {
        "id": "uPsDU3srlzW3"
      }
    },
    {
      "cell_type": "code",
      "source": [
        "EMAIL=\"[your-email-address]\" # @param {type:\"string\"}"
      ],
      "metadata": {
        "id": "JMjhTEG2AHzx"
      },
      "execution_count": null,
      "outputs": []
    },
    {
      "cell_type": "code",
      "source": [
        "import pandas as pd\n",
        "\n",
        "TIMESTAMP = pd.Timestamp.utcnow().strftime('%Y%m%d%H%M%S')\n",
        "JOB_DISPLAY_NAME = f\"churn_model_monitoring_job_{TIMESTAMP}\"\n",
        "\n",
        "\n",
        "# Skew and drift thresholds.\n",
        "DEFAULT_THRESHOLD_VALUE = 0.001\n",
        "\n",
        "SKEW_THRESHOLDS = {\n",
        "    \"country\": DEFAULT_THRESHOLD_VALUE,\n",
        "    \"cnt_user_engagement\": 0.002,\n",
        "}"
      ],
      "metadata": {
        "id": "1DiWq7ROfHyV"
      },
      "execution_count": null,
      "outputs": []
    },
    {
      "cell_type": "code",
      "source": [
        "# Copy files to your projects gs bucket to avoid permission issues.\n",
        "# Ignore any error(s) for bucket already exists.\n",
        "PUBLIC_TRAINING_DATASET = \"gs://bp_mm_public_data/churn/churn_bp_insample.csv\"\n",
        "TRAINING_DATASET = f\"{BUCKET_URI}/bp_mm_input/churn_bp_insample.csv\"\n",
        "\n",
        "! gsutil copy $PUBLIC_TRAINING_DATASET $TRAINING_DATASET"
      ],
      "metadata": {
        "id": "BEFgQe8zjXVU"
      },
      "execution_count": null,
      "outputs": []
    },
    {
      "cell_type": "code",
      "source": [
        "model_monitoring_job=my_model_monitor.run(\n",
        "    display_name=JOB_DISPLAY_NAME,\n",
        "    objective_config=model_monitor.spec.ObjectiveSpec(\n",
        "        baseline=model_monitor.spec.MonitoringInput(\n",
        "            gcs_uri=TRAINING_DATASET,\n",
        "            data_format=\"csv\",\n",
        "            ground_truth_field=\"species\"),\n",
        "        target=model_monitor.spec.MonitoringInput(\n",
        "            batch_prediction_job=batch_prediction_job.resource_name),\n",
        "        feature_distribution_skew=model_monitor.spec.SkewSpec(\n",
        "            default_threshold=DEFAULT_THRESHOLD_VALUE,\n",
        "            feature_thresholds=SKEW_THRESHOLDS)\n",
        "    ),\n",
        "    notification_config=model_monitor.spec.NotificationSpec(\n",
        "        user_emails=[EMAIL],\n",
        "    ),\n",
        "    output_config=model_monitor.spec.OutputSpec(\n",
        "        gcs_base_dir=BUCKET_URI\n",
        "    )\n",
        ")\n",
        "\n",
        "CMM_JOB_RESOURCE_NAME = model_monitoring_job.name\n",
        "CMM_JOB_ID=CMM_JOB_RESOURCE_NAME.split(\"/\")[-1]\n",
        "print(f\"Model Monitoring Job {CMM_JOB_ID} created.\")"
      ],
      "metadata": {
        "id": "S-3ilL5-03k8"
      },
      "execution_count": null,
      "outputs": []
    },
    {
      "cell_type": "code",
      "source": [
        "my_model_monitor.list_jobs()"
      ],
      "metadata": {
        "id": "urFYUjaZ7iCP"
      },
      "execution_count": null,
      "outputs": []
    },
    {
      "cell_type": "markdown",
      "source": [
        "## Step 7: Wait for the scheduled Model Monitoring Job to run and verify the result"
      ],
      "metadata": {
        "id": "nL10YABxl47v"
      }
    },
    {
      "cell_type": "markdown",
      "source": [
        "### Check email"
      ],
      "metadata": {
        "id": "LrSU6d0xFfzv"
      }
    },
    {
      "cell_type": "markdown",
      "source": [
        "#### Here's a sample create job email...\n",
        "\n",
        "<img src=\"https://services.google.com/fh/files/misc/batch_job_create.png\" />"
      ],
      "metadata": {
        "id": "zw5KodgebDVE"
      }
    },
    {
      "cell_type": "markdown",
      "source": [
        "#### If there is any anomaly detected, you will receive an email like\n",
        "\n",
        "<img src=\"https://services.google.com/fh/files/misc/alert_email_2.png\" />"
      ],
      "metadata": {
        "id": "37SPm_majLVj"
      }
    },
    {
      "cell_type": "markdown",
      "source": [
        "### Check GCP Console"
      ],
      "metadata": {
        "id": "LPC6ZoerifM6"
      }
    },
    {
      "cell_type": "markdown",
      "source": [
        "#### Check the \"Monitor\" tab under \"Vertex AI\"\n",
        "\n",
        "<img src=\"https://storage.googleapis.com/cmm-public-data/images/batch_prediction_job.gif\" />"
      ],
      "metadata": {
        "id": "4Pw6Z-bVbZaE"
      }
    },
    {
      "cell_type": "markdown",
      "source": [
        "### Check Output GCS bucket"
      ],
      "metadata": {
        "id": "MFZcBnwsdSfa"
      }
    },
    {
      "cell_type": "code",
      "source": [
        "my_model_monitor.show_skew_stats(model_monitoring_job_name=CMM_JOB_RESOURCE_NAME)"
      ],
      "metadata": {
        "id": "NhY20BTjjkVk"
      },
      "execution_count": null,
      "outputs": []
    },
    {
      "cell_type": "markdown",
      "source": [
        "## Step 8: Clean Up (after job finished)"
      ],
      "metadata": {
        "id": "hovSbsmBmEKZ"
      }
    },
    {
      "cell_type": "code",
      "source": [
        "# When no jobs are running, delete the schedule and all the jobs.\n",
        "my_model_monitor.delete_all_model_monitoring_jobs()\n",
        "my_model_monitor.delete()\n",
        "\n",
        "# Delete the model\n",
        "model.delete()"
      ],
      "metadata": {
        "id": "ejHg5PqiJPS2"
      },
      "execution_count": null,
      "outputs": []
    }
  ],
  "metadata": {
    "colab": {
      "provenance": []
    },
    "kernelspec": {
      "display_name": "Python 3",
      "name": "python3"
    }
  },
  "nbformat": 4,
  "nbformat_minor": 0
}