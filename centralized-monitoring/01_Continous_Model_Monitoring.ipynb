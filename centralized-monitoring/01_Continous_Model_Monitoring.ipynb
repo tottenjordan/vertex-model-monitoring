{
 "cells": [
  {
   "cell_type": "markdown",
   "metadata": {
    "id": "ndfGn8c4bI_G"
   },
   "source": [
    "# Continous Model Monitoring with Vertex AI Endpoint logging\n",
    "<table align=\"left\">\n",
    "  <td>\n",
    "    <a href=\"https://colab.research.google.com/drive/1q5_Iv7jbq_Oc-2zXlM5xfu5p9a89Y1NV#scrollTo=ndfGn8c4bI_G\">\n",
    "      <img src=\"https://cloud.google.com/ml-engine/images/colab-logo-32px.png\" alt=\"Colab logo\"> Run in Colab\n",
    "    </a>\n",
    "  </td>\n",
    "  <td>\n",
    "    <a href=\"https://console.cloud.google.com/vertex-ai/workbench/deploy-notebook?download_url=https://storage.googleapis.com/cmm-public-data/notebooks/Continous_Model_Monitoring_with_Vertex_AI_Endpoint_logging.ipynb\">\n",
    "       <img src=\"https://www.gstatic.com/cloud/images/navigation/vertex-ai.svg\" alt=\"Vertex AI logo\">Open in Vertex AI Workbench\n",
    "    </a>\n",
    "  </td>\n",
    "</table>"
   ]
  },
  {
   "cell_type": "markdown",
   "metadata": {
    "id": "QNiB5LfBaft-"
   },
   "source": [
    "## Step 1: Authentication"
   ]
  },
  {
   "cell_type": "markdown",
   "metadata": {
    "id": "VB_ARmwRky9t"
   },
   "source": [
    "Depending on your Jupyter environment, you may have to manually authenticate. Follow the relevant instructions below.\n",
    "\n",
    "**1. Vertex AI Workbench**\n",
    "* Do nothing as you are already authenticated."
   ]
  },
  {
   "cell_type": "markdown",
   "metadata": {
    "id": "tz1Odi-ZkLRP"
   },
   "source": [
    "**2. Colab, run:**"
   ]
  },
  {
   "cell_type": "code",
   "execution_count": 1,
   "metadata": {
    "id": "DZvan2XPagGN",
    "tags": []
   },
   "outputs": [],
   "source": [
    "# from google.colab import auth\n",
    "# auth.authenticate_user()"
   ]
  },
  {
   "cell_type": "markdown",
   "metadata": {
    "id": "6_OkGn2mlB5V"
   },
   "source": [
    "\n",
    "**3. Local JupyterLab instance, uncomment and run:**"
   ]
  },
  {
   "cell_type": "code",
   "execution_count": 2,
   "metadata": {
    "id": "-Xf5yAablC_d",
    "tags": []
   },
   "outputs": [],
   "source": [
    "# ! gcloud auth login"
   ]
  },
  {
   "cell_type": "markdown",
   "metadata": {
    "id": "TvY0RukOlJoi"
   },
   "source": [
    "**4. Service account or other**\n",
    "* See how to grant Cloud Storage permissions to your service account at https://cloud.google.com/storage/docs/gsutil/commands/iam#ch-examples."
   ]
  },
  {
   "cell_type": "markdown",
   "metadata": {
    "id": "f3848df1e5b0"
   },
   "source": [
    "## Step 2: Installations & Setup\n",
    "### Install the following packages to execute this notebook."
   ]
  },
  {
   "cell_type": "code",
   "execution_count": 3,
   "metadata": {},
   "outputs": [],
   "source": [
    "# ! pip3 install --upgrade --quiet \\\n",
    "#     google-cloud-aiplatform \\\n",
    "#     google-cloud-bigquery \\\n",
    "#     pandas-gbq \\\n",
    "#     'tensorflow_data_validation[visualization]<2'\n",
    "\n",
    "# pip install --upgrade --force-reinstall google-cloud-aiplatform --user\n",
    "# pip install --upgrade --force-reinstall google-cloud-bigquery --user\n",
    "# pip install --upgrade --force-reinstall pandas-gbq --user\n",
    "# pip install --upgrade --force-reinstall 'tensorflow_data_validation[visualization]<2' --user"
   ]
  },
  {
   "cell_type": "code",
   "execution_count": 4,
   "metadata": {
    "id": "hnWXY81AUZs0",
    "tags": []
   },
   "outputs": [],
   "source": [
    "# Model Monitoring Experimental SDK\n",
    "# ! gsutil cp gs://cmm-public-data/sdk/google_cloud_aiplatform-1.36.dev20231025+centralized.model.monitoring-py2.py3-none-any.whl .\n",
    "# ! pip install --quiet google_cloud_aiplatform-1.36.dev20231025+centralized.model.monitoring-py2.py3-none-any.whl --user"
   ]
  },
  {
   "cell_type": "code",
   "execution_count": 5,
   "metadata": {},
   "outputs": [],
   "source": [
    "# pip install --upgrade --force-reinstall google_cloud_aiplatform-1.36.dev20231025+centralized.model.monitoring-py2.py3-none-any.whl --user"
   ]
  },
  {
   "cell_type": "markdown",
   "metadata": {
    "id": "U4o9GjHNfHdI"
   },
   "source": [
    "### Restart the kernel (only for Colab)"
   ]
  },
  {
   "cell_type": "code",
   "execution_count": 7,
   "metadata": {
    "id": "JaY8Q_T3fA38",
    "tags": []
   },
   "outputs": [],
   "source": [
    "# import IPython\n",
    "\n",
    "# app = IPython.Application.instance()\n",
    "# app.kernel.do_shutdown(True)"
   ]
  },
  {
   "cell_type": "markdown",
   "metadata": {
    "id": "g_ByJf38kdCq"
   },
   "source": [
    "### Setup GCP Project ID and Initialize Vertex AI SDK for Python"
   ]
  },
  {
   "cell_type": "code",
   "execution_count": 8,
   "metadata": {
    "id": "5-2bPPRXkjyM",
    "tags": []
   },
   "outputs": [
    {
     "name": "stdout",
     "output_type": "stream",
     "text": [
      "Updated property [core/project].\n",
      "Updated property [ai/region].\n"
     ]
    }
   ],
   "source": [
    "import os\n",
    "\n",
    "PROJECT_ID = \"hybrid-vertex\"\n",
    "\n",
    "# set the project id\n",
    "! gcloud config set project $PROJECT_ID\n",
    "os.environ[\"GOOGLE_CLOUD_PROJECT\"] = PROJECT_ID\n",
    "\n",
    "REGION = \"us-central1\"\n",
    "! gcloud config set ai/region $REGION"
   ]
  },
  {
   "cell_type": "code",
   "execution_count": 37,
   "metadata": {
    "id": "GjePujZjmWYC",
    "tags": []
   },
   "outputs": [],
   "source": [
    "# Initialize Vertex AI SDK for Python\n",
    "import google.cloud.aiplatform as aiplatform\n",
    "from google.cloud import bigquery\n",
    "\n",
    "aiplatform.init(project=PROJECT_ID, location=REGION)\n",
    "\n",
    "bq_client = bigquery.Client(project=PROJECT_ID)"
   ]
  },
  {
   "cell_type": "code",
   "execution_count": 10,
   "metadata": {
    "tags": []
   },
   "outputs": [
    {
     "name": "stdout",
     "output_type": "stream",
     "text": [
      "EXPERIMENT_NAME: vmm-test-mars-v2\n"
     ]
    }
   ],
   "source": [
    "CREATE_NEW_ASSETS = False\n",
    "\n",
    "VERSION = \"v2\"\n",
    "EXPERIMENT_NAME = f\"vmm-test-mars-{VERSION}\"\n",
    "\n",
    "print(f\"EXPERIMENT_NAME: {EXPERIMENT_NAME}\")"
   ]
  },
  {
   "cell_type": "markdown",
   "metadata": {
    "id": "joCs8BEa_BAq"
   },
   "source": [
    "### Create a Cloud Storage bucket\n",
    "\n",
    "Create a storage bucket to store intermediate artifacts such as datasets."
   ]
  },
  {
   "cell_type": "code",
   "execution_count": 11,
   "metadata": {
    "id": "_oLJn-ur_H8Y",
    "tags": []
   },
   "outputs": [],
   "source": [
    "BUCKET_URI = f\"gs://a-{EXPERIMENT_NAME}-{PROJECT_ID}\"  # @param {type:\"string\"}"
   ]
  },
  {
   "cell_type": "markdown",
   "metadata": {
    "id": "_5mGcjwV_M-v"
   },
   "source": [
    "**Only if your bucket doesn't already exist**: Run the following cell to create your Cloud Storage bucket."
   ]
  },
  {
   "cell_type": "code",
   "execution_count": 12,
   "metadata": {
    "id": "2VE67bKu_RiZ",
    "tags": []
   },
   "outputs": [],
   "source": [
    "if CREATE_NEW_ASSETS:\n",
    "    ! gsutil mb -l {REGION} -p {PROJECT_ID} {BUCKET_URI}"
   ]
  },
  {
   "cell_type": "markdown",
   "metadata": {
    "id": "5ZLxDjB6lYXx"
   },
   "source": [
    "## Step 3: Prepare a Model in Vertex AI Model Registry"
   ]
  },
  {
   "cell_type": "code",
   "execution_count": 13,
   "metadata": {
    "id": "SwrD1CnmmJsk",
    "tags": []
   },
   "outputs": [],
   "source": [
    "import google.cloud.aiplatform as aiplatform\n",
    "\n",
    "MODEL_PATH = \"gs://mco-mm/churn\"\n",
    "MODEL_NAME = \"churn\"\n",
    "IMAGE = \"us-docker.pkg.dev/cloud-aiplatform/prediction/tf2-cpu.2-5:latest\""
   ]
  },
  {
   "cell_type": "code",
   "execution_count": 14,
   "metadata": {
    "tags": []
   },
   "outputs": [
    {
     "name": "stdout",
     "output_type": "stream",
     "text": [
      "MODEL_ID: 217982578253103104\n"
     ]
    }
   ],
   "source": [
    "if CREATE_NEW_ASSETS == True:\n",
    "    # here\n",
    "    model = aiplatform.Model.upload(\n",
    "        display_name=MODEL_NAME,\n",
    "        artifact_uri=MODEL_PATH,\n",
    "        serving_container_image_uri=IMAGE,\n",
    "        # explanation_parameters=EXPLAIN_PARAMS,\n",
    "        # explanation_metadata=EXPLAIN_META,\n",
    "        sync=True,\n",
    "    )\n",
    "else:\n",
    "    # use existing\n",
    "    model = aiplatform.Model('projects/934903580331/locations/us-central1/models/217982578253103104@1')\n",
    "\n",
    "MODEL_ID = model.resource_name.split(\"/\")[-1]\n",
    "\n",
    "print(f\"MODEL_ID: {MODEL_ID}\")"
   ]
  },
  {
   "cell_type": "markdown",
   "metadata": {
    "id": "dkHlwQuVli_2"
   },
   "source": [
    "## Step 4: Deploy Model to Vertex AI Endpoint with Req-Resp Logging Enabled"
   ]
  },
  {
   "cell_type": "markdown",
   "metadata": {
    "id": "AghW-o6w0EA5"
   },
   "source": [
    "### Create an endpoint with logging enabled and deploy the model to this endpoint"
   ]
  },
  {
   "cell_type": "code",
   "execution_count": 15,
   "metadata": {
    "id": "YGe6vK07yU0X",
    "tags": []
   },
   "outputs": [
    {
     "name": "stdout",
     "output_type": "stream",
     "text": [
      "ENDPOINT_DISPLAY_NAME : churn_endpoint_20240103025557\n",
      "BQ_LOGGING_TABLE      : bq://hybrid-vertex.churn_production_20240103025557.req_resp\n"
     ]
    }
   ],
   "source": [
    "# Create an endpoint with logging enabled. Specify the logging sampling rate and BigQuery Destination.\n",
    "import pandas as pd\n",
    "\n",
    "TIMESTAMP = pd.Timestamp.utcnow().strftime('%Y%m%d%H%M%S')\n",
    "ENDPOINT_DISPLAY_NAME=f\"churn_endpoint_{TIMESTAMP}\"\n",
    "BQ_LOGGING_DATASET=f\"churn_production_{TIMESTAMP}\"\n",
    "BQ_LOGGING_TABLE=f\"bq://{PROJECT_ID}.{BQ_LOGGING_DATASET}.req_resp\"\n",
    "\n",
    "print(f\"ENDPOINT_DISPLAY_NAME : {ENDPOINT_DISPLAY_NAME}\")\n",
    "print(f\"BQ_LOGGING_TABLE      : {BQ_LOGGING_TABLE}\")"
   ]
  },
  {
   "cell_type": "code",
   "execution_count": 16,
   "metadata": {},
   "outputs": [
    {
     "name": "stdout",
     "output_type": "stream",
     "text": [
      "display_name : churn_endpoint_20240103020250\n",
      "\n",
      "endpoint     : <google.cloud.aiplatform.models.Endpoint object at 0x7faa83833490> \n",
      "resource name: projects/934903580331/locations/us-central1/endpoints/8889764815824748544\n"
     ]
    }
   ],
   "source": [
    "if CREATE_NEW_ASSETS == True:\n",
    "    # here\n",
    "    endpoint = aiplatform.Endpoint.create(\n",
    "        display_name=ENDPOINT_DISPLAY_NAME,\n",
    "        enable_request_response_logging=True,\n",
    "        request_response_logging_sampling_rate=1.0,\n",
    "        request_response_logging_bq_destination_table=BQ_LOGGING_TABLE\n",
    "    )\n",
    "    # Deploy model to this endpoint\n",
    "    endpoint.deploy(\n",
    "        model=model,\n",
    "        traffic_percentage=100,\n",
    "        min_replica_count=1,\n",
    "        max_replica_count=1,\n",
    "        machine_type=\"n1-standard-4\"\n",
    "    )\n",
    "else:\n",
    "    # use existing\n",
    "    endpoint = aiplatform.Endpoint('projects/934903580331/locations/us-central1/endpoints/8889764815824748544')\n",
    "\n",
    "print(f\"display_name : {endpoint.display_name}\\n\")\n",
    "print(f\"endpoint     : {endpoint}\")"
   ]
  },
  {
   "cell_type": "markdown",
   "metadata": {
    "id": "_zOdgd7P0Izw"
   },
   "source": [
    "### Run a prediction test"
   ]
  },
  {
   "cell_type": "code",
   "execution_count": 17,
   "metadata": {
    "id": "TyvdoE1U0Rav",
    "tags": []
   },
   "outputs": [],
   "source": [
    "DEFAULT_INPUT = {\n",
    "    \"cnt_ad_reward\": 0,\n",
    "    \"cnt_challenge_a_friend\": 0,\n",
    "    \"cnt_completed_5_levels\": 1,\n",
    "    \"cnt_level_complete_quickplay\": 3,\n",
    "    \"cnt_level_end_quickplay\": 5,\n",
    "    \"cnt_level_reset_quickplay\": 2,\n",
    "    \"cnt_level_start_quickplay\": 6,\n",
    "    \"cnt_post_score\": 34,\n",
    "    \"cnt_spend_virtual_currency\": 0,\n",
    "    \"cnt_use_extra_steps\": 0,\n",
    "    \"cnt_user_engagement\": 120,\n",
    "    \"country\": \"Denmark\",\n",
    "    \"dayofweek\": 3,\n",
    "    \"julianday\": 254,\n",
    "    \"language\": \"da-dk\",\n",
    "    \"month\": 9,\n",
    "    \"operating_system\": \"IOS\",\n",
    "    \"user_pseudo_id\": \"104B0770BAE16E8B53DF330C95881893\",\n",
    "}"
   ]
  },
  {
   "cell_type": "code",
   "execution_count": 18,
   "metadata": {
    "id": "ZE-U5JI_0OdN",
    "tags": []
   },
   "outputs": [
    {
     "name": "stdout",
     "output_type": "stream",
     "text": [
      "1 0.870577692165845\n",
      "0 0.129422307834155\n",
      "Prediction(predictions=[{'churned_probs': [0.870577692165845, 0.129422307834155], 'predicted_churned': ['1'], 'churned_values': ['1', '0']}], deployed_model_id='5177140659336773632', model_version_id='1', model_resource_name='projects/934903580331/locations/us-central1/models/217982578253103104', explanations=None)\n"
     ]
    },
    {
     "data": {
      "image/png": "[encoded data removed]",
      "text/plain": [
       "<Figure size 640x480 with 1 Axes>"
      ]
     },
     "metadata": {},
     "output_type": "display_data"
    }
   ],
   "source": [
    "import matplotlib.pyplot as plt\n",
    "import pprint as pp\n",
    "\n",
    "try:\n",
    "    resp = endpoint.predict([DEFAULT_INPUT])\n",
    "    for i in resp.predictions:\n",
    "        vals = i[\"churned_values\"]\n",
    "        probs = i[\"churned_probs\"]\n",
    "    for i in range(len(vals)):\n",
    "        print(vals[i], probs[i])\n",
    "    plt.pie(probs, labels=vals)\n",
    "    pp.pprint(resp)\n",
    "except Exception as ex:\n",
    "    print(\"prediction request failed\", ex)"
   ]
  },
  {
   "cell_type": "markdown",
   "metadata": {
    "id": "VSP-oDUJy_3M"
   },
   "source": [
    "### Send some prediction request to the endpoint"
   ]
  },
  {
   "cell_type": "code",
   "execution_count": 19,
   "metadata": {},
   "outputs": [],
   "source": [
    "from google.cloud import bigquery\n",
    "import time\n",
    "import sys\n",
    "\n",
    "# Here we just use subset of the training dataset as prediction data\n",
    "DATASET_BQ_URI=\"bq://mco-mm.bqmlga4.train\"\n",
    "GROUND_TRUTH=\"churned\"\n",
    "\n",
    "bqclient = bigquery.Client(project=PROJECT_ID)\n",
    "table = bigquery.TableReference.from_string(DATASET_BQ_URI[5:])"
   ]
  },
  {
   "cell_type": "code",
   "execution_count": 20,
   "metadata": {
    "id": "G9gTPCnky7_M",
    "tags": []
   },
   "outputs": [
    {
     "name": "stdout",
     "output_type": "stream",
     "text": [
      "Sent: 0 requests\n",
      "Sent: 100 requests\n",
      "Sent: 200 requests\n",
      "Sent: 300 requests\n",
      "Sent: 400 requests\n",
      "Sent: 500 requests\n",
      "Sent: 600 requests\n",
      "Sent: 700 requests\n",
      "Sent: 800 requests\n",
      "Sent: 900 requests\n"
     ]
    }
   ],
   "source": [
    "rows = bqclient.list_rows(table, max_results=1000)\n",
    "\n",
    "count = 0\n",
    "for row in rows:\n",
    "    instance = {}\n",
    "    for key, value in row.items():\n",
    "        if key == GROUND_TRUTH:\n",
    "            continue\n",
    "        if value is None:\n",
    "            value = \"\"\n",
    "        instance[key] = value\n",
    "    endpoint.predict(instances=[instance])\n",
    "    # Print progress\n",
    "    if count % 100 == 0:\n",
    "      print(f\"Sent: {count} requests\")\n",
    "    count = count + 1\n",
    "    time.sleep(0.01)"
   ]
  },
  {
   "cell_type": "markdown",
   "metadata": {
    "id": "HEpG7HxlGu4B"
   },
   "source": [
    "Check the endpoint logging table."
   ]
  },
  {
   "cell_type": "code",
   "execution_count": 21,
   "metadata": {},
   "outputs": [],
   "source": [
    "# tmp-jt \n",
    "# BQ_LOGGING_TABLE = \"bq://hybrid-vertex.churn_production_20240103020250.req_resp\""
   ]
  },
  {
   "cell_type": "code",
   "execution_count": 58,
   "metadata": {
    "id": "dLJz3hF5Gaer",
    "tags": []
   },
   "outputs": [
    {
     "data": {
      "text/html": [
       "<div>\n",
       "<style scoped>\n",
       "    .dataframe tbody tr th:only-of-type {\n",
       "        vertical-align: middle;\n",
       "    }\n",
       "\n",
       "    .dataframe tbody tr th {\n",
       "        vertical-align: top;\n",
       "    }\n",
       "\n",
       "    .dataframe thead th {\n",
       "        text-align: right;\n",
       "    }\n",
       "</style>\n",
       "<table border=\"1\" class=\"dataframe\">\n",
       "  <thead>\n",
       "    <tr style=\"text-align: right;\">\n",
       "      <th></th>\n",
       "      <th>endpoint</th>\n",
       "      <th>deployed_model_id</th>\n",
       "      <th>logging_time</th>\n",
       "      <th>request_id</th>\n",
       "      <th>request_payload</th>\n",
       "      <th>response_payload</th>\n",
       "    </tr>\n",
       "  </thead>\n",
       "  <tbody>\n",
       "    <tr>\n",
       "      <th>0</th>\n",
       "      <td>projects/934903580331/locations/us-central1/en...</td>\n",
       "      <td>5177140659336773632</td>\n",
       "      <td>2024-01-03 03:47:47.928883+00:00</td>\n",
       "      <td>1342843371185681229.000000000</td>\n",
       "      <td>[{\"dayofweek\":3,\"cnt_level_reset_quickplay\":0,...</td>\n",
       "      <td>[{\"churned_values\":[\"1\",\"0\"],\"predicted_churne...</td>\n",
       "    </tr>\n",
       "    <tr>\n",
       "      <th>1</th>\n",
       "      <td>projects/934903580331/locations/us-central1/en...</td>\n",
       "      <td>5177140659336773632</td>\n",
       "      <td>2024-01-03 03:47:46.512121+00:00</td>\n",
       "      <td>8184157551987388455.000000000</td>\n",
       "      <td>[{\"cnt_use_extra_steps\":0,\"language\":\"en-us\",\"...</td>\n",
       "      <td>[{\"churned_values\":[\"1\",\"0\"],\"churned_probs\":[...</td>\n",
       "    </tr>\n",
       "    <tr>\n",
       "      <th>2</th>\n",
       "      <td>projects/934903580331/locations/us-central1/en...</td>\n",
       "      <td>5177140659336773632</td>\n",
       "      <td>2024-01-03 03:47:45.244123+00:00</td>\n",
       "      <td>1652724713569221069.000000000</td>\n",
       "      <td>[{\"cnt_level_reset_quickplay\":0,\"cnt_user_enga...</td>\n",
       "      <td>[{\"predicted_churned\":[\"1\"],\"churned_values\":[...</td>\n",
       "    </tr>\n",
       "    <tr>\n",
       "      <th>3</th>\n",
       "      <td>projects/934903580331/locations/us-central1/en...</td>\n",
       "      <td>5177140659336773632</td>\n",
       "      <td>2024-01-03 03:47:44.079094+00:00</td>\n",
       "      <td>3152074806772958339.000000000</td>\n",
       "      <td>[{\"julianday\":163,\"dayofweek\":3,\"cnt_spend_vir...</td>\n",
       "      <td>[{\"churned_values\":[\"1\",\"0\"],\"predicted_churne...</td>\n",
       "    </tr>\n",
       "    <tr>\n",
       "      <th>4</th>\n",
       "      <td>projects/934903580331/locations/us-central1/en...</td>\n",
       "      <td>5177140659336773632</td>\n",
       "      <td>2024-01-03 03:47:42.765463+00:00</td>\n",
       "      <td>6578410890068812357.000000000</td>\n",
       "      <td>[{\"cnt_spend_virtual_currency\":0,\"operating_sy...</td>\n",
       "      <td>[{\"churned_probs\":[0.82404962551851546,0.17595...</td>\n",
       "    </tr>\n",
       "  </tbody>\n",
       "</table>\n",
       "</div>"
      ],
      "text/plain": [
       "                                            endpoint    deployed_model_id  \\\n",
       "0  projects/934903580331/locations/us-central1/en...  5177140659336773632   \n",
       "1  projects/934903580331/locations/us-central1/en...  5177140659336773632   \n",
       "2  projects/934903580331/locations/us-central1/en...  5177140659336773632   \n",
       "3  projects/934903580331/locations/us-central1/en...  5177140659336773632   \n",
       "4  projects/934903580331/locations/us-central1/en...  5177140659336773632   \n",
       "\n",
       "                      logging_time                     request_id  \\\n",
       "0 2024-01-03 03:47:47.928883+00:00  1342843371185681229.000000000   \n",
       "1 2024-01-03 03:47:46.512121+00:00  8184157551987388455.000000000   \n",
       "2 2024-01-03 03:47:45.244123+00:00  1652724713569221069.000000000   \n",
       "3 2024-01-03 03:47:44.079094+00:00  3152074806772958339.000000000   \n",
       "4 2024-01-03 03:47:42.765463+00:00  6578410890068812357.000000000   \n",
       "\n",
       "                                     request_payload  \\\n",
       "0  [{\"dayofweek\":3,\"cnt_level_reset_quickplay\":0,...   \n",
       "1  [{\"cnt_use_extra_steps\":0,\"language\":\"en-us\",\"...   \n",
       "2  [{\"cnt_level_reset_quickplay\":0,\"cnt_user_enga...   \n",
       "3  [{\"julianday\":163,\"dayofweek\":3,\"cnt_spend_vir...   \n",
       "4  [{\"cnt_spend_virtual_currency\":0,\"operating_sy...   \n",
       "\n",
       "                                    response_payload  \n",
       "0  [{\"churned_values\":[\"1\",\"0\"],\"predicted_churne...  \n",
       "1  [{\"churned_values\":[\"1\",\"0\"],\"churned_probs\":[...  \n",
       "2  [{\"predicted_churned\":[\"1\"],\"churned_values\":[...  \n",
       "3  [{\"churned_values\":[\"1\",\"0\"],\"predicted_churne...  \n",
       "4  [{\"churned_probs\":[0.82404962551851546,0.17595...  "
      ]
     },
     "execution_count": 58,
     "metadata": {},
     "output_type": "execute_result"
    }
   ],
   "source": [
    "import pandas as pd\n",
    "\n",
    "query_string = f\"SELECT * FROM `{BQ_LOGGING_TABLE[5:]}` ORDER BY logging_time DESC LIMIT 5\"\n",
    "pd.read_gbq(query_string, project_id=PROJECT_ID)"
   ]
  },
  {
   "cell_type": "markdown",
   "metadata": {
    "id": "RuwAoHTilv1j"
   },
   "source": [
    "## Step 5: Create a Model Monitor"
   ]
  },
  {
   "cell_type": "code",
   "execution_count": 23,
   "metadata": {},
   "outputs": [],
   "source": [
    "# !pip install --force-reinstall protobuf==3.20.0 --user\n",
    "\n",
    "## tmp-jt: was protobuf==4.25.1"
   ]
  },
  {
   "cell_type": "code",
   "execution_count": 26,
   "metadata": {
    "tags": []
   },
   "outputs": [
    {
     "name": "stdout",
     "output_type": "stream",
     "text": [
      "MONITOR_DISPLAY_NAME : churn_model_monitor-v1\n"
     ]
    }
   ],
   "source": [
    "from google.cloud.aiplatform.private_preview.centralized_model_monitoring import model_monitor\n",
    "\n",
    "MODEL_VERSION_ID = \"1\"\n",
    "\n",
    "MM_VERSION = \"v1\"\n",
    "MONITOR_DISPLAY_NAME=f\"churn_model_monitor-{MM_VERSION}\"\n",
    "\n",
    "print(f\"MONITOR_DISPLAY_NAME : {MONITOR_DISPLAY_NAME}\")"
   ]
  },
  {
   "cell_type": "code",
   "execution_count": 27,
   "metadata": {
    "id": "l_d917Ory595"
   },
   "outputs": [
    {
     "name": "stdout",
     "output_type": "stream",
     "text": [
      "Creating ModelMonitor\n",
      "Create ModelMonitor backing LRO: projects/934903580331/locations/us-central1/modelMonitors/3182496824179032064/operations/4233787101776183296\n",
      "ModelMonitor created. Resource name: projects/934903580331/locations/us-central1/modelMonitors/3182496824179032064\n",
      "To use this ModelMonitor in another session:\n",
      "model_monitor = aiplatform.ModelMonitor('projects/934903580331/locations/us-central1/modelMonitors/3182496824179032064')\n",
      "MODEL MONITOR 3182496824179032064 created.\n"
     ]
    }
   ],
   "source": [
    "my_model_monitor = model_monitor.ModelMonitor.create(\n",
    "    project=PROJECT_ID,\n",
    "    location=REGION,\n",
    "    display_name=MONITOR_DISPLAY_NAME,\n",
    "    model_name=model.resource_name,\n",
    "    model_version_id=MODEL_VERSION_ID\n",
    ")\n",
    "\n",
    "MODEL_MONITOR_RESOURCE_NAME = my_model_monitor.name\n",
    "print(f\"MODEL MONITOR {MODEL_MONITOR_RESOURCE_NAME} created.\")"
   ]
  },
  {
   "cell_type": "markdown",
   "metadata": {
    "id": "uPsDU3srlzW3"
   },
   "source": [
    "## Step 6: Schedule Continous Model Monitoring"
   ]
  },
  {
   "cell_type": "code",
   "execution_count": 31,
   "metadata": {},
   "outputs": [
    {
     "name": "stdout",
     "output_type": "stream",
     "text": [
      "SKEW_THRESHOLDS      : {'cnt_ad_reward': 0.001, 'cnt_level_start_quickplay': 0.001, 'cnt_post_score': 0.001, 'cnt_spend_virtual_currency': 0.001, 'cnt_use_extra_steps': 0.001, 'cnt_user_engagement': 0.001, 'country': 0.001}\n",
      "\n"
     ]
    }
   ],
   "source": [
    "# feature_names\n",
    "feature_names = [\n",
    "      \"cnt_ad_reward\",\n",
    "      # \"cnt_challenge_a_friend\",\n",
    "      # \"cnt_completed_5_levels\",\n",
    "      # \"cnt_level_complete_quickplay\",\n",
    "      # \"cnt_level_end_quickplay\",\n",
    "      # \"cnt_level_reset_quickplay\",\n",
    "      \"cnt_level_start_quickplay\",\n",
    "      \"cnt_post_score\",\n",
    "      \"cnt_spend_virtual_currency\",\n",
    "      \"cnt_use_extra_steps\",\n",
    "      \"cnt_user_engagement\",\n",
    "      \"country\",\n",
    "      # \"dayofweek\",\n",
    "      # \"julianday\",\n",
    "      # \"language\",\n",
    "      # \"month\",\n",
    "      # \"operating_system\",\n",
    "      # \"user_pseudo_id\",\n",
    "]\n",
    "\n",
    "DEFAULT_THRESHOLD_VALUE = 0.001\n",
    "DRIFT_THRESHOLD_VALUE = 0.001\n",
    "ATTRIBUTION_DRIFT_THRESHOLD_VALUE = 0.001\n",
    "\n",
    "# =========================== #\n",
    "##   Feature value drift     ##\n",
    "# =========================== #\n",
    "SKEW_THRESHOLDS = dict()\n",
    "\n",
    "for feature in feature_names:\n",
    "    if feature in SKEW_THRESHOLDS:\n",
    "        print(\"feature name already in dict\")\n",
    "    else:\n",
    "        SKEW_THRESHOLDS[feature] = DEFAULT_THRESHOLD_VALUE\n",
    "        \n",
    "print(f\"SKEW_THRESHOLDS      : {SKEW_THRESHOLDS}\\n\")"
   ]
  },
  {
   "cell_type": "code",
   "execution_count": 32,
   "metadata": {
    "id": "JMjhTEG2AHzx"
   },
   "outputs": [],
   "source": [
    "# URI to training dataset.\n",
    "DATASET_BQ_URI = \"bq://mco-mm.bqmlga4.train\"\n",
    "# Prediction target column name in training dataset.\n",
    "GROUND_TRUTH = \"churned\"\n",
    "\n",
    "EMAIL = \"jordantotten@google.com\"  # @param {type:\"string\"}\n",
    "CRON=\"20 * * * *\" # @param {type:\"string\"} Every 1 hour at :00, for example 1:00, 2:00..\n",
    "DATA_WINDOW=\"1h\"\n",
    "SCHEDULE_DISPLAY_NAME=\"churn-continous-skew-detection\""
   ]
  },
  {
   "cell_type": "code",
   "execution_count": 33,
   "metadata": {
    "id": "S-3ilL5-03k8"
   },
   "outputs": [
    {
     "name": "stdout",
     "output_type": "stream",
     "text": [
      "Schedule projects/934903580331/locations/us-central1/schedules/5015233174100246528 created.\n"
     ]
    }
   ],
   "source": [
    "model_monitoring_schedule=my_model_monitor.create_schedule(\n",
    "    display_name=SCHEDULE_DISPLAY_NAME,\n",
    "    cron=CRON,\n",
    "    objective_config=model_monitor.spec.ObjectiveSpec(\n",
    "        baseline=model_monitor.spec.MonitoringInput(\n",
    "            table_uri=DATASET_BQ_URI,\n",
    "            ground_truth_field=GROUND_TRUTH\n",
    "        ),\n",
    "        target=model_monitor.spec.MonitoringInput(\n",
    "            endpoints=[endpoint.resource_name]\n",
    "        ),\n",
    "        feature_distribution_skew=model_monitor.spec.SkewSpec(\n",
    "            default_threshold=DEFAULT_THRESHOLD_VALUE,\n",
    "            feature_thresholds=SKEW_THRESHOLDS,\n",
    "            window=DATA_WINDOW\n",
    "        ),\n",
    "    ),\n",
    "    notification_config=model_monitor.spec.NotificationSpec(\n",
    "        user_emails=[EMAIL],\n",
    "    ),\n",
    "    output_config=model_monitor.spec.OutputSpec(\n",
    "        gcs_base_dir=BUCKET_URI\n",
    "    )\n",
    ")\n",
    "\n",
    "SCHEDULE_RESOURCE_NAME = model_monitoring_schedule.name\n",
    "print(f\"Schedule {SCHEDULE_RESOURCE_NAME} created.\")"
   ]
  },
  {
   "cell_type": "markdown",
   "metadata": {
    "id": "nL10YABxl47v"
   },
   "source": [
    "## Step 7: Wait for the scheduled Model Monitoring Job to run and verify the result"
   ]
  },
  {
   "cell_type": "markdown",
   "metadata": {
    "id": "yOJgAWNHxesY"
   },
   "source": [
    "Note: If no data is fetched in the model monitoring job, the job will still be marked as successful but no metrics are generated.\n",
    "You could continously send more prediction traffic as Step 4 mentioned."
   ]
  },
  {
   "cell_type": "code",
   "execution_count": 57,
   "metadata": {
    "id": "IYQfh-Sx43Ed",
    "tags": []
   },
   "outputs": [],
   "source": [
    "# List the jobs, you would a job if the scheduled one start to run.\n",
    "# my_model_monitor.list_jobs()"
   ]
  },
  {
   "cell_type": "markdown",
   "metadata": {},
   "source": [
    "### Simulate Endpoint traffic"
   ]
  },
  {
   "cell_type": "code",
   "execution_count": 42,
   "metadata": {},
   "outputs": [
    {
     "data": {
      "text/plain": [
       "'mco-mm.bqmlga4.train'"
      ]
     },
     "execution_count": 42,
     "metadata": {},
     "output_type": "execute_result"
    }
   ],
   "source": [
    "DATASET_BQ_URI[5:]"
   ]
  },
  {
   "cell_type": "code",
   "execution_count": 46,
   "metadata": {},
   "outputs": [],
   "source": [
    "# Download the table.\n",
    "table = bigquery.TableReference.from_string(DATASET_BQ_URI[5:])\n",
    "\n",
    "# rows = bqclient.list_rows(table, max_results=2000)\n",
    "\n",
    "TARGET = \"churned\""
   ]
  },
  {
   "cell_type": "code",
   "execution_count": 59,
   "metadata": {},
   "outputs": [
    {
     "name": "stdout",
     "output_type": "stream",
     "text": [
      "Simulating Skewed Traffic...\n",
      "\n",
      "prepping instances with multiplier: 3 ...\n",
      "Sending skewed traffic...\n",
      "Prediction for the first instance: \n",
      " {'churned_values': ['1', '0'], 'predicted_churned': ['1'], 'churned_probs': [0.6757116328584678, 0.3242883671415322]} \n",
      "\n",
      "prepping instances with multiplier: 4 ...\n",
      "Sending skewed traffic...\n",
      "Prediction for the first instance: \n",
      " {'churned_probs': [0.8240496255185155, 0.1759503744814845], 'churned_values': ['1', '0'], 'predicted_churned': ['1']} \n",
      "\n",
      "prepping instances with multiplier: 5 ...\n",
      "Sending skewed traffic...\n",
      "Prediction for the first instance: \n",
      " {'churned_probs': [0.9132456434282916, 0.08675435657170838], 'predicted_churned': ['1'], 'churned_values': ['1', '0']} \n",
      "\n",
      "prepping instances with multiplier: 6 ...\n",
      "Sending skewed traffic...\n",
      "Prediction for the first instance: \n",
      " {'churned_values': ['1', '0'], 'churned_probs': [0.9594498183685726, 0.04055018163142743], 'predicted_churned': ['1']} \n",
      "\n",
      "prepping instances with multiplier: 7 ...\n",
      "Sending skewed traffic...\n",
      "Prediction for the first instance: \n",
      " {'churned_probs': [0.9815436001910217, 0.01845639980897829], 'churned_values': ['1', '0'], 'predicted_churned': ['1']} \n",
      "\n",
      "prepping instances with multiplier: 8 ...\n",
      "Sending skewed traffic...\n",
      "Prediction for the first instance: \n",
      " {'churned_probs': [0.9917036671485668, 0.008296332851433164], 'churned_values': ['1', '0'], 'predicted_churned': ['1']} \n",
      "\n"
     ]
    }
   ],
   "source": [
    "print(\"Simulating Skewed Traffic...\\n\")\n",
    "\n",
    "start=3\n",
    "end=8\n",
    "\n",
    "for multiplier in range(start, end+1):\n",
    "    # test_time=1200\n",
    "    # tests_per_second = 1\n",
    "    # sleep_time = 1 / tests_per_second\n",
    "    # iterations = test_time * tests_per_second\n",
    "    \n",
    "    rows = bqclient.list_rows(table, max_results=2000)\n",
    "    \n",
    "    # get instances\n",
    "    print(f\"prepping instances with multiplier: {multiplier} ...\")\n",
    "    instances = []\n",
    "    for row in rows:\n",
    "        instance = {}\n",
    "        for key, value in row.items():\n",
    "            if key == TARGET:\n",
    "                continue\n",
    "            if value is None:\n",
    "                value = \"\"\n",
    "            instance[key] = value\n",
    "        instance['cnt_ad_reward'] = instance['cnt_ad_reward'] * multiplier\n",
    "        instance['cnt_level_start_quickplay'] = instance['cnt_level_start_quickplay'] * multiplier\n",
    "        instance['cnt_post_score'] = instance['cnt_post_score'] * multiplier\n",
    "        instance['cnt_spend_virtual_currency'] = instance['cnt_spend_virtual_currency'] * multiplier\n",
    "        instance['cnt_use_extra_steps'] = instance['cnt_use_extra_steps'] * multiplier\n",
    "        instance['cnt_user_engagement'] = instance['cnt_user_engagement'] * multiplier\n",
    "        instances.append(instance)\n",
    "        \n",
    "    # predict with instances\n",
    "    print(f\"Sending skewed traffic...\")\n",
    "    \n",
    "    response = endpoint.predict(instances=instances)\n",
    "    prediction = response[0]\n",
    "    \n",
    "    print(f\"Prediction for the first instance: \\n {prediction[0]} \\n\")"
   ]
  },
  {
   "cell_type": "code",
   "execution_count": 54,
   "metadata": {},
   "outputs": [
    {
     "data": {
      "text/plain": [
       "992"
      ]
     },
     "execution_count": 54,
     "metadata": {},
     "output_type": "execute_result"
    }
   ],
   "source": [
    "instances[4]['cnt_user_engagement']"
   ]
  },
  {
   "cell_type": "code",
   "execution_count": 55,
   "metadata": {},
   "outputs": [
    {
     "data": {
      "text/plain": [
       "{'user_pseudo_id': '9245B5CB02DD3705AA94778F256D5A53',\n",
       " 'country': 'United States',\n",
       " 'operating_system': '',\n",
       " 'language': 'en-us',\n",
       " 'cnt_user_engagement': 6104,\n",
       " 'cnt_level_start_quickplay': 2216,\n",
       " 'cnt_level_end_quickplay': 273,\n",
       " 'cnt_level_complete_quickplay': 143,\n",
       " 'cnt_level_reset_quickplay': 0,\n",
       " 'cnt_post_score': 1144,\n",
       " 'cnt_spend_virtual_currency': 0,\n",
       " 'cnt_ad_reward': 0,\n",
       " 'cnt_challenge_a_friend': 0,\n",
       " 'cnt_completed_5_levels': 0,\n",
       " 'cnt_use_extra_steps': 0,\n",
       " 'month': 6,\n",
       " 'julianday': 163,\n",
       " 'dayofweek': 3}"
      ]
     },
     "execution_count": 55,
     "metadata": {},
     "output_type": "execute_result"
    }
   ],
   "source": [
    "instances[0]"
   ]
  },
  {
   "cell_type": "code",
   "execution_count": 56,
   "metadata": {
    "collapsed": true,
    "jupyter": {
     "outputs_hidden": true
    },
    "tags": []
   },
   "outputs": [
    {
     "data": {
      "text/plain": [
       "[name: \"projects/934903580331/locations/us-central1/modelMonitors/3182496824179032064/modelMonitoringJobs/9059764706641707008\"\n",
       "display_name: \"churn-continous-skew-detection-20240102192000000\"\n",
       "model_monitoring_spec {\n",
       "  objective_spec {\n",
       "    tabular_objective {\n",
       "      baseline {\n",
       "        columnized_dataset {\n",
       "          ground_truth_field: \"churned\"\n",
       "          bigquery_source {\n",
       "            table_uri: \"bq://mco-mm.bqmlga4.train\"\n",
       "          }\n",
       "        }\n",
       "      }\n",
       "      target {\n",
       "        vertex_endpoint_logs {\n",
       "          endpoints: \"projects/934903580331/locations/us-central1/endpoints/8889764815824748544\"\n",
       "        }\n",
       "      }\n",
       "      feature_distribution_skew {\n",
       "        default_alert_condition {\n",
       "          threshold: 0.001\n",
       "        }\n",
       "        alert_conditions {\n",
       "          key: \"cnt_ad_reward\"\n",
       "          value {\n",
       "            threshold: 0.001\n",
       "          }\n",
       "        }\n",
       "        alert_conditions {\n",
       "          key: \"cnt_level_start_quickplay\"\n",
       "          value {\n",
       "            threshold: 0.001\n",
       "          }\n",
       "        }\n",
       "        alert_conditions {\n",
       "          key: \"cnt_post_score\"\n",
       "          value {\n",
       "            threshold: 0.001\n",
       "          }\n",
       "        }\n",
       "        alert_conditions {\n",
       "          key: \"cnt_spend_virtual_currency\"\n",
       "          value {\n",
       "            threshold: 0.001\n",
       "          }\n",
       "        }\n",
       "        alert_conditions {\n",
       "          key: \"cnt_use_extra_steps\"\n",
       "          value {\n",
       "            threshold: 0.001\n",
       "          }\n",
       "        }\n",
       "        alert_conditions {\n",
       "          key: \"cnt_user_engagement\"\n",
       "          value {\n",
       "            threshold: 0.001\n",
       "          }\n",
       "        }\n",
       "        alert_conditions {\n",
       "          key: \"country\"\n",
       "          value {\n",
       "            threshold: 0.001\n",
       "          }\n",
       "        }\n",
       "        window: \"1h\"\n",
       "      }\n",
       "    }\n",
       "  }\n",
       "  notification_spec {\n",
       "    email_config {\n",
       "      user_emails: \"jordantotten@google.com\"\n",
       "    }\n",
       "  }\n",
       "  output_spec {\n",
       "    gcs_base_directory {\n",
       "      output_uri_prefix: \"gs://a-vmm-test-mars-v2-hybrid-vertex/model_monitoring/3182496824179032064\"\n",
       "    }\n",
       "  }\n",
       "}\n",
       "create_time {\n",
       "  seconds: 1704252001\n",
       "  nanos: 772467000\n",
       "}\n",
       "update_time {\n",
       "  seconds: 1704252390\n",
       "  nanos: 404128000\n",
       "}\n",
       "state: JOB_STATE_SUCCEEDED\n",
       "schedule: \"projects/934903580331/locations/us-central1/schedules/5015233174100246528\"\n",
       "job_execution_detail {\n",
       "  objective_status {\n",
       "    key: \"RAW_FEATURE_SKEW\"\n",
       "    value {\n",
       "    }\n",
       "  }\n",
       "}\n",
       "schedule_time {\n",
       "  seconds: 1704252000\n",
       "}\n",
       "]"
      ]
     },
     "execution_count": 56,
     "metadata": {},
     "output_type": "execute_result"
    }
   ],
   "source": [
    "# List the jobs, you would a job if the scheduled one start to run.\n",
    "my_model_monitor.list_jobs()"
   ]
  },
  {
   "cell_type": "markdown",
   "metadata": {
    "tags": []
   },
   "source": [
    "## Interpret results"
   ]
  },
  {
   "cell_type": "markdown",
   "metadata": {
    "id": "LrSU6d0xFfzv"
   },
   "source": [
    "### Check email"
   ]
  },
  {
   "cell_type": "markdown",
   "metadata": {
    "id": "zw5KodgebDVE"
   },
   "source": [
    "#### Here's a sample create job email...\n",
    "\n",
    "<img src=\"https://services.google.com/fh/files/misc/job_create.png\">"
   ]
  },
  {
   "cell_type": "markdown",
   "metadata": {
    "id": "37SPm_majLVj"
   },
   "source": [
    "#### If there is any anomaly detected, you will receive an email like\n",
    "\n",
    "<img src=\"https://services.google.com/fh/files/misc/alert_email.png\" />"
   ]
  },
  {
   "cell_type": "markdown",
   "metadata": {
    "id": "LPC6ZoerifM6"
   },
   "source": [
    "### Check GCP Console"
   ]
  },
  {
   "cell_type": "markdown",
   "metadata": {
    "id": "4Pw6Z-bVbZaE"
   },
   "source": [
    "#### Check the \"Monitor\" tab under \"Vertex AI\"\n",
    "\n",
    "<img src=\"https://services.google.com/fh/files/misc/continous_gif.gif\" />"
   ]
  },
  {
   "cell_type": "markdown",
   "metadata": {
    "id": "MFZcBnwsdSfa"
   },
   "source": [
    "### Verify Output GCS bucket after job is finished"
   ]
  },
  {
   "cell_type": "code",
   "execution_count": null,
   "metadata": {
    "id": "XM71_79p80Gu"
   },
   "outputs": [],
   "source": [
    "jobs=my_model_monitor.list_jobs()\n",
    "jobs"
   ]
  },
  {
   "cell_type": "markdown",
   "metadata": {
    "id": "A4oxq27Txi63"
   },
   "source": [
    "Note: If there is no data fecthed in the job, there will no output metrics"
   ]
  },
  {
   "cell_type": "code",
   "execution_count": null,
   "metadata": {
    "id": "_LOUSYlP9G8H"
   },
   "outputs": [],
   "source": [
    "# Enter the interested job resource name.\n",
    "CMM_JOB_RESOURCE_NAME=\"[job-resource-name]\" # @param {type:\"string\"}\n",
    "example_job=CMM_JOB_RESOURCE_NAME\n",
    "if example_job == \"[job-resource-name]\" and len(jobs):\n",
    "    example_job=jobs[0].name\n",
    "\n",
    "print(f\"Result for job {example_job}:\")\n",
    "my_model_monitor.show_skew_stats(model_monitoring_job_name=example_job)\n"
   ]
  },
  {
   "cell_type": "markdown",
   "metadata": {
    "id": "hovSbsmBmEKZ",
    "tags": []
   },
   "source": [
    "## Step 8: Clean Up (after job finished)"
   ]
  },
  {
   "cell_type": "code",
   "execution_count": null,
   "metadata": {
    "id": "ejHg5PqiJPS2"
   },
   "outputs": [],
   "source": [
    "# from google.cloud import bigquery\n",
    "\n",
    "# # When no jobs are running, delete the schedule and all the jobs.\n",
    "# my_model_monitor.delete_schedule(SCHEDULE_RESOURCE_NAME)\n",
    "# my_model_monitor.delete_all_model_monitoring_jobs()\n",
    "# my_model_monitor.delete()\n",
    "\n",
    "# # Undeploy the model and delete the endpoint\n",
    "# endpoint.undeploy_all()\n",
    "# endpoint.delete()\n",
    "\n",
    "# # Delete the model\n",
    "# model.delete()\n",
    "\n",
    "# # Delete BQ logging table\n",
    "# bqclient = bigquery.Client(project=PROJECT_ID)\n",
    "# # Delete the dataset (including all tables)\n",
    "# bqclient.delete_dataset(BQ_LOGGING_DATASET, delete_contents=True, not_found_ok=True)"
   ]
  }
 ],
 "metadata": {
  "colab": {
   "provenance": []
  },
  "environment": {
   "kernel": "python3",
   "name": "tf2-gpu.2-13.m112",
   "type": "gcloud",
   "uri": "gcr.io/deeplearning-platform-release/tf2-gpu.2-13:m112"
  },
  "kernelspec": {
   "display_name": "Python 3",
   "language": "python",
   "name": "python3"
  },
  "language_info": {
   "codemirror_mode": {
    "name": "ipython",
    "version": 3
   },
   "file_extension": ".py",
   "mimetype": "text/x-python",
   "name": "python",
   "nbconvert_exporter": "python",
   "pygments_lexer": "ipython3",
   "version": "3.10.12"
  }
 },
 "nbformat": 4,
 "nbformat_minor": 4
}
