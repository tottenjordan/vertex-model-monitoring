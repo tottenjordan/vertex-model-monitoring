{
 "cells": [
  {
   "cell_type": "markdown",
   "metadata": {
    "id": "ndfGn8c4bI_G"
   },
   "source": [
    "# Continous Model Monitoring with Vertex AI Endpoint logging"
   ]
  },
  {
   "cell_type": "markdown",
   "metadata": {
    "id": "QNiB5LfBaft-",
    "tags": []
   },
   "source": [
    "## Step 1: Authentication"
   ]
  },
  {
   "cell_type": "code",
   "execution_count": 1,
   "metadata": {
    "id": "DZvan2XPagGN",
    "tags": []
   },
   "outputs": [],
   "source": [
    "# from google.colab import auth\n",
    "# auth.authenticate_user()"
   ]
  },
  {
   "cell_type": "code",
   "execution_count": 101,
   "metadata": {
    "id": "-Xf5yAablC_d",
    "tags": []
   },
   "outputs": [],
   "source": [
    "# ! gcloud auth login"
   ]
  },
  {
   "cell_type": "markdown",
   "metadata": {
    "id": "f3848df1e5b0",
    "tags": []
   },
   "source": [
    "## Step 2: Installations & Setup\n",
    "\n",
    "**Install the following packages to execute this notebook**"
   ]
  },
  {
   "cell_type": "markdown",
   "metadata": {
    "jp-MarkdownHeadingCollapsed": true,
    "tags": []
   },
   "source": [
    "### pip"
   ]
  },
  {
   "cell_type": "markdown",
   "metadata": {
    "jp-MarkdownHeadingCollapsed": true,
    "tags": []
   },
   "source": [
    "#### (skip) Original pip instructions"
   ]
  },
  {
   "cell_type": "code",
   "execution_count": 4,
   "metadata": {},
   "outputs": [],
   "source": [
    "# ! pip3 install --upgrade --quiet \\\n",
    "#     google-cloud-aiplatform \\\n",
    "#     google-cloud-bigquery \\\n",
    "#     pandas-gbq \\\n",
    "#     'tensorflow_data_validation[visualization]<2'\n",
    "\n",
    "# Model Monitoring Experimental SDK\n",
    "# ! gsutil cp gs://cmm-public-data/sdk/google_cloud_aiplatform-1.36.dev20231025+centralized.model.monitoring-py2.py3-none-any.whl .\n",
    "# ! pip install --quiet google_cloud_aiplatform-1.36.dev20231025+centralized.model.monitoring-py2.py3-none-any.whl --user"
   ]
  },
  {
   "cell_type": "markdown",
   "metadata": {
    "tags": []
   },
   "source": [
    "#### New pip (run once)"
   ]
  },
  {
   "cell_type": "code",
   "execution_count": 3,
   "metadata": {},
   "outputs": [],
   "source": [
    "# pip install --upgrade --force-reinstall google-cloud-aiplatform --user\n",
    "# pip install --upgrade --force-reinstall google-cloud-bigquery --user\n",
    "# pip install --upgrade --force-reinstall pandas-gbq --user\n",
    "# pip install --upgrade --force-reinstall 'tensorflow_data_validation[visualization]<2' --user\n",
    "# pip install --force-reinstall protobuf==3.20.0 --user"
   ]
  },
  {
   "cell_type": "code",
   "execution_count": 4,
   "metadata": {
    "id": "hnWXY81AUZs0",
    "tags": []
   },
   "outputs": [],
   "source": [
    "# Model Monitoring Experimental SDK\n",
    "# ! gsutil cp gs://cmm-public-data/sdk/google_cloud_aiplatform-1.36.dev20231025+centralized.model.monitoring-py2.py3-none-any.whl .\n",
    "# pip install --upgrade --force-reinstall google_cloud_aiplatform-1.36.dev20231025+centralized.model.monitoring-py2.py3-none-any.whl --user"
   ]
  },
  {
   "cell_type": "markdown",
   "metadata": {
    "id": "U4o9GjHNfHdI",
    "jp-MarkdownHeadingCollapsed": true,
    "tags": []
   },
   "source": [
    "#### Restart the kernel (only for Colab)"
   ]
  },
  {
   "cell_type": "code",
   "execution_count": 6,
   "metadata": {
    "id": "JaY8Q_T3fA38",
    "tags": []
   },
   "outputs": [],
   "source": [
    "# import IPython\n",
    "\n",
    "# app = IPython.Application.instance()\n",
    "# app.kernel.do_shutdown(True)"
   ]
  },
  {
   "cell_type": "markdown",
   "metadata": {
    "id": "g_ByJf38kdCq"
   },
   "source": [
    "### Setup GCP Project ID"
   ]
  },
  {
   "cell_type": "code",
   "execution_count": 1,
   "metadata": {},
   "outputs": [
    {
     "name": "stdout",
     "output_type": "stream",
     "text": [
      "PROJECT_ID            = hybrid-vertex\n",
      "PROJECT_NUM           = 934903580331\n",
      "VPC_NETWORK_NAME      = \n",
      "LOCATION              = us-central1\n",
      "REGION                = us-central1\n",
      "BQ_LOCATION           = US\n"
     ]
    }
   ],
   "source": [
    "# creds, PROJECT_ID = google.auth.default()\n",
    "GCP_PROJECTS             = !gcloud config get-value project\n",
    "PROJECT_ID               = GCP_PROJECTS[0]\n",
    "\n",
    "PROJECT_NUM              = !gcloud projects describe $PROJECT_ID --format=\"value(projectNumber)\"\n",
    "PROJECT_NUM              = PROJECT_NUM[0]\n",
    "\n",
    "VERTEX_SA                = f'{PROJECT_NUM}-compute@developer.gserviceaccount.com'\n",
    "\n",
    "VPC_NETWORK_NAME         = \"\" # TODO\n",
    "\n",
    "# locations / regions for cloud resources\n",
    "LOCATION                 = 'us-central1'        \n",
    "REGION                   = LOCATION\n",
    "BQ_LOCATION              = 'US'\n",
    "\n",
    "print(f\"PROJECT_ID            = {PROJECT_ID}\")\n",
    "print(f\"PROJECT_NUM           = {PROJECT_NUM}\")\n",
    "print(f\"VPC_NETWORK_NAME      = {VPC_NETWORK_NAME}\")\n",
    "print(f\"LOCATION              = {LOCATION}\")\n",
    "print(f\"REGION                = {REGION}\")\n",
    "print(f\"BQ_LOCATION           = {BQ_LOCATION}\")"
   ]
  },
  {
   "cell_type": "markdown",
   "metadata": {},
   "source": [
    "### Imports"
   ]
  },
  {
   "cell_type": "code",
   "execution_count": 2,
   "metadata": {
    "id": "5-2bPPRXkjyM",
    "tags": []
   },
   "outputs": [
    {
     "name": "stdout",
     "output_type": "stream",
     "text": [
      "Updated property [core/project].\n"
     ]
    }
   ],
   "source": [
    "import time\n",
    "import sys\n",
    "import os\n",
    "\n",
    "# set the project id\n",
    "! gcloud config set project $PROJECT_ID\n",
    "os.environ[\"GOOGLE_CLOUD_PROJECT\"] = PROJECT_ID\n",
    "\n",
    "import pandas as pd\n",
    "import numpy as np\n",
    "import matplotlib.pyplot as plt\n",
    "from pprint import pprint\n",
    "\n",
    "\n",
    "# google cloud SDKs\n",
    "import google.cloud.aiplatform as aiplatform\n",
    "from google.cloud import bigquery"
   ]
  },
  {
   "cell_type": "markdown",
   "metadata": {},
   "source": [
    "### Initialize Vertex AI SDK for Python"
   ]
  },
  {
   "cell_type": "code",
   "execution_count": 3,
   "metadata": {
    "id": "GjePujZjmWYC",
    "tags": []
   },
   "outputs": [],
   "source": [
    "# Initialize Vertex AI SDK for Python\n",
    "aiplatform.init(\n",
    "    project=PROJECT_ID, \n",
    "    location=REGION\n",
    ")\n",
    "\n",
    "bq_client = bigquery.Client(project=PROJECT_ID)"
   ]
  },
  {
   "cell_type": "markdown",
   "metadata": {},
   "source": [
    "### Set Vertex AI Experiment Name"
   ]
  },
  {
   "cell_type": "code",
   "execution_count": 4,
   "metadata": {
    "tags": []
   },
   "outputs": [
    {
     "name": "stdout",
     "output_type": "stream",
     "text": [
      "EXPERIMENT_NAME: vmm-test-mars-v5\n"
     ]
    }
   ],
   "source": [
    "CREATE_NEW_ASSETS = True # create new models, endpoints, and mm jobs?\n",
    "\n",
    "VERSION = \"v5\"\n",
    "EXPERIMENT_NAME = f\"vmm-test-mars-{VERSION}\"\n",
    "\n",
    "print(f\"EXPERIMENT_NAME: {EXPERIMENT_NAME}\")"
   ]
  },
  {
   "cell_type": "markdown",
   "metadata": {
    "id": "joCs8BEa_BAq"
   },
   "source": [
    "### Create a Cloud Storage bucket\n",
    "\n",
    "Create a storage bucket to store intermediate artifacts such as datasets."
   ]
  },
  {
   "cell_type": "code",
   "execution_count": 5,
   "metadata": {
    "id": "_oLJn-ur_H8Y",
    "tags": []
   },
   "outputs": [],
   "source": [
    "BUCKET_URI = f\"gs://a-{EXPERIMENT_NAME}-{PROJECT_ID}\" "
   ]
  },
  {
   "cell_type": "markdown",
   "metadata": {
    "id": "_5mGcjwV_M-v"
   },
   "source": [
    "**Only if your bucket doesn't already exist**: Run the following cell to create your Cloud Storage bucket."
   ]
  },
  {
   "cell_type": "code",
   "execution_count": 6,
   "metadata": {
    "id": "2VE67bKu_RiZ",
    "tags": []
   },
   "outputs": [
    {
     "name": "stdout",
     "output_type": "stream",
     "text": [
      "Creating gs://a-vmm-test-mars-v5-hybrid-vertex/...\n",
      "ServiceException: 409 A Cloud Storage bucket named 'a-vmm-test-mars-v5-hybrid-vertex' already exists. Try another name. Bucket names must be globally unique across all Google Cloud projects, including those outside of your organization.\n"
     ]
    }
   ],
   "source": [
    "if CREATE_NEW_ASSETS:\n",
    "    ! gsutil mb -l {REGION} -p {PROJECT_ID} {BUCKET_URI}"
   ]
  },
  {
   "cell_type": "markdown",
   "metadata": {
    "id": "5ZLxDjB6lYXx"
   },
   "source": [
    "## Step 3: Prepare a Model in Vertex AI Model Registry"
   ]
  },
  {
   "cell_type": "code",
   "execution_count": 7,
   "metadata": {
    "id": "SwrD1CnmmJsk",
    "tags": []
   },
   "outputs": [
    {
     "name": "stdout",
     "output_type": "stream",
     "text": [
      "MODEL_NAME : churn-v5\n",
      "IMAGE      : us-docker.pkg.dev/cloud-aiplatform/prediction/tf2-cpu.2-5:latest\n"
     ]
    }
   ],
   "source": [
    "MODEL_PATH = \"gs://mco-mm/churn\"\n",
    "MODEL_NAME = f\"churn-{VERSION}\"\n",
    "IMAGE      = \"us-docker.pkg.dev/cloud-aiplatform/prediction/tf2-cpu.2-5:latest\"\n",
    "\n",
    "print(f\"MODEL_NAME : {MODEL_NAME}\")\n",
    "print(f\"IMAGE      : {IMAGE}\")"
   ]
  },
  {
   "cell_type": "code",
   "execution_count": 8,
   "metadata": {
    "tags": []
   },
   "outputs": [
    {
     "name": "stdout",
     "output_type": "stream",
     "text": [
      "Creating Model\n",
      "Create Model backing LRO: projects/934903580331/locations/us-central1/models/6639411959441653760/operations/8487607374129922048\n",
      "Model created. Resource name: projects/934903580331/locations/us-central1/models/6639411959441653760@1\n",
      "To use this Model in another session:\n",
      "model = aiplatform.Model('projects/934903580331/locations/us-central1/models/6639411959441653760@1')\n",
      "MODEL_ID: 6639411959441653760\n"
     ]
    }
   ],
   "source": [
    "if CREATE_NEW_ASSETS == True:\n",
    "    # here\n",
    "    model = aiplatform.Model.upload(\n",
    "        display_name=MODEL_NAME,\n",
    "        artifact_uri=MODEL_PATH,\n",
    "        serving_container_image_uri=IMAGE,\n",
    "        # explanation_parameters=EXPLAIN_PARAMS,\n",
    "        # explanation_metadata=EXPLAIN_META,\n",
    "        sync=True,\n",
    "    )\n",
    "else:\n",
    "    # TODO\n",
    "    EXISTING_MODEL_NAME = f'projects/{PROJECT_NUM}/locations/{REGION}/models/2430375895198859264@1'\n",
    "    model = aiplatform.Model(EXISTING_MODEL_NAME)\n",
    "\n",
    "MODEL_ID = model.resource_name.split(\"/\")[-1]\n",
    "\n",
    "print(f\"MODEL_ID: {MODEL_ID}\")"
   ]
  },
  {
   "cell_type": "markdown",
   "metadata": {
    "id": "dkHlwQuVli_2"
   },
   "source": [
    "## Step 4: Deploy Model to Vertex AI Endpoint with Req-Resp Logging Enabled"
   ]
  },
  {
   "cell_type": "markdown",
   "metadata": {
    "id": "AghW-o6w0EA5"
   },
   "source": [
    "### Create an endpoint with logging enabled and deploy the model to this endpoint"
   ]
  },
  {
   "cell_type": "code",
   "execution_count": 9,
   "metadata": {},
   "outputs": [
    {
     "name": "stdout",
     "output_type": "stream",
     "text": [
      "Creating Endpoint\n",
      "Create Endpoint backing LRO: projects/934903580331/locations/us-central1/endpoints/6719135348548435968/operations/732408815797927936\n",
      "Endpoint created. Resource name: projects/934903580331/locations/us-central1/endpoints/6719135348548435968\n",
      "To use this Endpoint in another session:\n",
      "endpoint = aiplatform.Endpoint('projects/934903580331/locations/us-central1/endpoints/6719135348548435968')\n",
      "Deploying Model projects/934903580331/locations/us-central1/models/6639411959441653760 to Endpoint : projects/934903580331/locations/us-central1/endpoints/6719135348548435968\n",
      "Deploy Endpoint model backing LRO: projects/934903580331/locations/us-central1/endpoints/6719135348548435968/operations/6760476917033336832\n",
      "Endpoint model deployed. Resource name: projects/934903580331/locations/us-central1/endpoints/6719135348548435968\n",
      "display_name          : churn_endpoint_v5\n",
      "\n",
      "endpoint              : <google.cloud.aiplatform.models.Endpoint object at 0x7f34a91f9ff0> \n",
      "resource name: projects/934903580331/locations/us-central1/endpoints/6719135348548435968\n",
      "\n",
      "ENDPOINT_DISPLAY_NAME : churn_endpoint_v5\n",
      "BQ_LOGGING_TABLE      : bq://hybrid-vertex.churn_production_v5.req_resp\n"
     ]
    }
   ],
   "source": [
    "if CREATE_NEW_ASSETS == True:\n",
    "    # here\n",
    "    # TIMESTAMP = pd.Timestamp.utcnow().strftime('%Y%m%d%H%M%S')\n",
    "    \n",
    "    ENDPOINT_DISPLAY_NAME=f\"churn_endpoint_{VERSION}\"\n",
    "    BQ_LOGGING_DATASET=f\"churn_production_{VERSION}\"\n",
    "    BQ_LOGGING_TABLE=f\"bq://{PROJECT_ID}.{BQ_LOGGING_DATASET}.req_resp\"\n",
    "    \n",
    "    # create new endpoint\n",
    "    endpoint = aiplatform.Endpoint.create(\n",
    "        display_name=ENDPOINT_DISPLAY_NAME,\n",
    "        enable_request_response_logging=True,\n",
    "        request_response_logging_sampling_rate=1.0,\n",
    "        request_response_logging_bq_destination_table=BQ_LOGGING_TABLE\n",
    "    )\n",
    "    # Deploy model to this endpoint\n",
    "    endpoint.deploy(\n",
    "        model=model,\n",
    "        traffic_percentage=100,\n",
    "        min_replica_count=1,\n",
    "        max_replica_count=1,\n",
    "        machine_type=\"n1-standard-4\"\n",
    "    )\n",
    "else:\n",
    "    # TODO\n",
    "    EXISTING_ENDPOINT_NAME = f'projects/{PROJECT_NUM}/locations/{REGION}/endpoints/3254354307100704768'\n",
    "    BQ_LOGGING_TABLE       = f\"bq://{PROJECT_ID}.churn_production_20240103104113.req_resp\"\n",
    "    \n",
    "    # use existing endpoint\n",
    "    endpoint = aiplatform.Endpoint(EXISTING_ENDPOINT_NAME)\n",
    "    ENDPOINT_DISPLAY_NAME = endpoint.display_name\n",
    "\n",
    "print(f\"display_name          : {endpoint.display_name}\\n\")\n",
    "print(f\"endpoint              : {endpoint}\\n\")\n",
    "\n",
    "print(f\"ENDPOINT_DISPLAY_NAME : {ENDPOINT_DISPLAY_NAME}\")\n",
    "print(f\"BQ_LOGGING_TABLE      : {BQ_LOGGING_TABLE}\")"
   ]
  },
  {
   "cell_type": "markdown",
   "metadata": {
    "id": "_zOdgd7P0Izw"
   },
   "source": [
    "### Run a prediction test"
   ]
  },
  {
   "cell_type": "code",
   "execution_count": 10,
   "metadata": {
    "id": "TyvdoE1U0Rav",
    "tags": []
   },
   "outputs": [],
   "source": [
    "DEFAULT_INPUT = {\n",
    "    \"cnt_ad_reward\": 0,\n",
    "    \"cnt_challenge_a_friend\": 0,\n",
    "    \"cnt_completed_5_levels\": 1,\n",
    "    \"cnt_level_complete_quickplay\": 3,\n",
    "    \"cnt_level_end_quickplay\": 5,\n",
    "    \"cnt_level_reset_quickplay\": 2,\n",
    "    \"cnt_level_start_quickplay\": 6,\n",
    "    \"cnt_post_score\": 34,\n",
    "    \"cnt_spend_virtual_currency\": 0,\n",
    "    \"cnt_use_extra_steps\": 0,\n",
    "    \"cnt_user_engagement\": 120,\n",
    "    \"country\": \"Denmark\",\n",
    "    \"dayofweek\": 3,\n",
    "    \"julianday\": 254,\n",
    "    \"language\": \"da-dk\",\n",
    "    \"month\": 9,\n",
    "    \"operating_system\": \"IOS\",\n",
    "    \"user_pseudo_id\": \"104B0770BAE16E8B53DF330C95881893\",\n",
    "}"
   ]
  },
  {
   "cell_type": "code",
   "execution_count": 11,
   "metadata": {
    "id": "ZE-U5JI_0OdN",
    "tags": []
   },
   "outputs": [
    {
     "name": "stdout",
     "output_type": "stream",
     "text": [
      "1 0.870577692165845\n",
      "0 0.129422307834155\n",
      "Prediction(predictions=[{'predicted_churned': ['1'], 'churned_values': ['1', '0'], 'churned_probs': [0.870577692165845, 0.129422307834155]}], deployed_model_id='2003563073482260480', model_version_id='1', model_resource_name='projects/934903580331/locations/us-central1/models/6639411959441653760', explanations=None)\n"
     ]
    },
    {
     "data": {
      "image/png": "[encoded data removed]",
      "text/plain": [
       "<Figure size 640x480 with 1 Axes>"
      ]
     },
     "metadata": {},
     "output_type": "display_data"
    }
   ],
   "source": [
    "try:\n",
    "    resp = endpoint.predict([DEFAULT_INPUT])\n",
    "    for i in resp.predictions:\n",
    "        vals = i[\"churned_values\"]\n",
    "        probs = i[\"churned_probs\"]\n",
    "    for i in range(len(vals)):\n",
    "        print(vals[i], probs[i])\n",
    "    plt.pie(probs, labels=vals)\n",
    "    pprint(resp)\n",
    "except Exception as ex:\n",
    "    print(\"prediction request failed\", ex)"
   ]
  },
  {
   "cell_type": "markdown",
   "metadata": {
    "id": "VSP-oDUJy_3M"
   },
   "source": [
    "### Send some prediction request to the endpoint"
   ]
  },
  {
   "cell_type": "code",
   "execution_count": 12,
   "metadata": {},
   "outputs": [
    {
     "data": {
      "text/plain": [
       "TableReference(DatasetReference('mco-mm', 'bqmlga4'), 'train')"
      ]
     },
     "execution_count": 12,
     "metadata": {},
     "output_type": "execute_result"
    }
   ],
   "source": [
    "# Here we just use subset of the training dataset as prediction data\n",
    "DATASET_BQ_URI=\"bq://mco-mm.bqmlga4.train\"\n",
    "GROUND_TRUTH=\"churned\"\n",
    "\n",
    "# bq_client = bigquery.Client(project=PROJECT_ID)\n",
    "table = bigquery.TableReference.from_string(DATASET_BQ_URI[5:])\n",
    "table"
   ]
  },
  {
   "cell_type": "code",
   "execution_count": 13,
   "metadata": {
    "id": "G9gTPCnky7_M",
    "tags": []
   },
   "outputs": [
    {
     "name": "stdout",
     "output_type": "stream",
     "text": [
      "Sent: 0 requests\n",
      "Sent: 100 requests\n",
      "Sent: 200 requests\n",
      "Sent: 300 requests\n",
      "Sent: 400 requests\n",
      "Sent: 500 requests\n",
      "Sent: 600 requests\n",
      "Sent: 700 requests\n",
      "Sent: 800 requests\n",
      "Sent: 900 requests\n"
     ]
    }
   ],
   "source": [
    "rows = bq_client.list_rows(table, max_results=1000)\n",
    "\n",
    "count = 0\n",
    "for row in rows:\n",
    "    instance = {}\n",
    "    for key, value in row.items():\n",
    "        if key == GROUND_TRUTH:\n",
    "            continue\n",
    "        if value is None:\n",
    "            value = \"\"\n",
    "        instance[key] = value\n",
    "    endpoint.predict(instances=[instance])\n",
    "    # Print progress\n",
    "    if count % 100 == 0:\n",
    "        print(f\"Sent: {count} requests\")\n",
    "    count = count + 1\n",
    "    time.sleep(0.01)"
   ]
  },
  {
   "cell_type": "markdown",
   "metadata": {
    "id": "HEpG7HxlGu4B"
   },
   "source": [
    "Check the endpoint logging table."
   ]
  },
  {
   "cell_type": "code",
   "execution_count": 14,
   "metadata": {
    "id": "dLJz3hF5Gaer",
    "tags": []
   },
   "outputs": [
    {
     "data": {
      "text/html": [
       "<div>\n",
       "<style scoped>\n",
       "    .dataframe tbody tr th:only-of-type {\n",
       "        vertical-align: middle;\n",
       "    }\n",
       "\n",
       "    .dataframe tbody tr th {\n",
       "        vertical-align: top;\n",
       "    }\n",
       "\n",
       "    .dataframe thead th {\n",
       "        text-align: right;\n",
       "    }\n",
       "</style>\n",
       "<table border=\"1\" class=\"dataframe\">\n",
       "  <thead>\n",
       "    <tr style=\"text-align: right;\">\n",
       "      <th></th>\n",
       "      <th>endpoint</th>\n",
       "      <th>deployed_model_id</th>\n",
       "      <th>logging_time</th>\n",
       "      <th>request_id</th>\n",
       "      <th>request_payload</th>\n",
       "      <th>response_payload</th>\n",
       "    </tr>\n",
       "  </thead>\n",
       "  <tbody>\n",
       "    <tr>\n",
       "      <th>0</th>\n",
       "      <td>projects/934903580331/locations/us-central1/en...</td>\n",
       "      <td>2003563073482260480</td>\n",
       "      <td>2024-01-09 19:23:42.420270+00:00</td>\n",
       "      <td>5206848963391778712.000000000</td>\n",
       "      <td>[{\"cnt_spend_virtual_currency\":0,\"operating_sy...</td>\n",
       "      <td>[{\"churned_values\":[\"1\",\"0\"],\"churned_probs\":[...</td>\n",
       "    </tr>\n",
       "    <tr>\n",
       "      <th>1</th>\n",
       "      <td>projects/934903580331/locations/us-central1/en...</td>\n",
       "      <td>2003563073482260480</td>\n",
       "      <td>2024-01-09 19:23:42.395920+00:00</td>\n",
       "      <td>3784432073520050454.000000000</td>\n",
       "      <td>[{\"cnt_ad_reward\":0,\"cnt_post_score\":0,\"cnt_le...</td>\n",
       "      <td>[{\"predicted_churned\":[\"0\"],\"churned_probs\":[0...</td>\n",
       "    </tr>\n",
       "    <tr>\n",
       "      <th>2</th>\n",
       "      <td>projects/934903580331/locations/us-central1/en...</td>\n",
       "      <td>2003563073482260480</td>\n",
       "      <td>2024-01-09 19:23:42.367150+00:00</td>\n",
       "      <td>3199904269435761731.000000000</td>\n",
       "      <td>[{\"cnt_level_complete_quickplay\":0,\"cnt_comple...</td>\n",
       "      <td>[{\"churned_probs\":[0.81488845217287809,0.18511...</td>\n",
       "    </tr>\n",
       "    <tr>\n",
       "      <th>3</th>\n",
       "      <td>projects/934903580331/locations/us-central1/en...</td>\n",
       "      <td>2003563073482260480</td>\n",
       "      <td>2024-01-09 19:23:42.343411+00:00</td>\n",
       "      <td>2857590537445441530.000000000</td>\n",
       "      <td>[{\"cnt_use_extra_steps\":0,\"cnt_challenge_a_fri...</td>\n",
       "      <td>[{\"predicted_churned\":[\"0\"],\"churned_values\":[...</td>\n",
       "    </tr>\n",
       "    <tr>\n",
       "      <th>4</th>\n",
       "      <td>projects/934903580331/locations/us-central1/en...</td>\n",
       "      <td>2003563073482260480</td>\n",
       "      <td>2024-01-09 19:23:42.319367+00:00</td>\n",
       "      <td>2204261934731562963.000000000</td>\n",
       "      <td>[{\"cnt_user_engagement\":2,\"month\":7,\"cnt_post_...</td>\n",
       "      <td>[{\"churned_probs\":[0.068381080458369631,0.9316...</td>\n",
       "    </tr>\n",
       "  </tbody>\n",
       "</table>\n",
       "</div>"
      ],
      "text/plain": [
       "                                            endpoint    deployed_model_id  \\\n",
       "0  projects/934903580331/locations/us-central1/en...  2003563073482260480   \n",
       "1  projects/934903580331/locations/us-central1/en...  2003563073482260480   \n",
       "2  projects/934903580331/locations/us-central1/en...  2003563073482260480   \n",
       "3  projects/934903580331/locations/us-central1/en...  2003563073482260480   \n",
       "4  projects/934903580331/locations/us-central1/en...  2003563073482260480   \n",
       "\n",
       "                      logging_time                     request_id  \\\n",
       "0 2024-01-09 19:23:42.420270+00:00  5206848963391778712.000000000   \n",
       "1 2024-01-09 19:23:42.395920+00:00  3784432073520050454.000000000   \n",
       "2 2024-01-09 19:23:42.367150+00:00  3199904269435761731.000000000   \n",
       "3 2024-01-09 19:23:42.343411+00:00  2857590537445441530.000000000   \n",
       "4 2024-01-09 19:23:42.319367+00:00  2204261934731562963.000000000   \n",
       "\n",
       "                                     request_payload  \\\n",
       "0  [{\"cnt_spend_virtual_currency\":0,\"operating_sy...   \n",
       "1  [{\"cnt_ad_reward\":0,\"cnt_post_score\":0,\"cnt_le...   \n",
       "2  [{\"cnt_level_complete_quickplay\":0,\"cnt_comple...   \n",
       "3  [{\"cnt_use_extra_steps\":0,\"cnt_challenge_a_fri...   \n",
       "4  [{\"cnt_user_engagement\":2,\"month\":7,\"cnt_post_...   \n",
       "\n",
       "                                    response_payload  \n",
       "0  [{\"churned_values\":[\"1\",\"0\"],\"churned_probs\":[...  \n",
       "1  [{\"predicted_churned\":[\"0\"],\"churned_probs\":[0...  \n",
       "2  [{\"churned_probs\":[0.81488845217287809,0.18511...  \n",
       "3  [{\"predicted_churned\":[\"0\"],\"churned_values\":[...  \n",
       "4  [{\"churned_probs\":[0.068381080458369631,0.9316...  "
      ]
     },
     "execution_count": 14,
     "metadata": {},
     "output_type": "execute_result"
    }
   ],
   "source": [
    "query_string = f\"\"\"\n",
    "  SELECT * \n",
    "  FROM `{BQ_LOGGING_TABLE[5:]}` \n",
    "  ORDER BY logging_time DESC \n",
    "  LIMIT 5\n",
    "\"\"\"\n",
    "\n",
    "pd.read_gbq(\n",
    "    query_string, \n",
    "    project_id=PROJECT_ID\n",
    ")"
   ]
  },
  {
   "cell_type": "markdown",
   "metadata": {
    "id": "RuwAoHTilv1j"
   },
   "source": [
    "## Step 5: Create a Model Monitor"
   ]
  },
  {
   "cell_type": "code",
   "execution_count": 16,
   "metadata": {
    "tags": []
   },
   "outputs": [
    {
     "name": "stdout",
     "output_type": "stream",
     "text": [
      "MONITOR_DISPLAY_NAME : churn_model_monitor_v5\n"
     ]
    }
   ],
   "source": [
    "from google.cloud.aiplatform.private_preview.centralized_model_monitoring import model_monitor\n",
    "\n",
    "MODEL_VERSION_ID = \"1\"\n",
    "\n",
    "MM_VERSION = \"v5\"\n",
    "MONITOR_DISPLAY_NAME=f\"churn_model_monitor_{MM_VERSION}\"\n",
    "\n",
    "print(f\"MONITOR_DISPLAY_NAME : {MONITOR_DISPLAY_NAME}\")"
   ]
  },
  {
   "cell_type": "code",
   "execution_count": 17,
   "metadata": {
    "id": "l_d917Ory595"
   },
   "outputs": [
    {
     "name": "stdout",
     "output_type": "stream",
     "text": [
      "Creating ModelMonitor\n",
      "Create ModelMonitor backing LRO: projects/934903580331/locations/us-central1/modelMonitors/1069464174012137472/operations/350165797424857088\n",
      "ModelMonitor created. Resource name: projects/934903580331/locations/us-central1/modelMonitors/1069464174012137472\n",
      "To use this ModelMonitor in another session:\n",
      "model_monitor = aiplatform.ModelMonitor('projects/934903580331/locations/us-central1/modelMonitors/1069464174012137472')\n",
      "MODEL MONITOR 1069464174012137472 created.\n"
     ]
    }
   ],
   "source": [
    "if CREATE_NEW_ASSETS:\n",
    "    \n",
    "    my_model_monitor = model_monitor.ModelMonitor.create(\n",
    "        project=PROJECT_ID,\n",
    "        location=REGION,\n",
    "        display_name=MONITOR_DISPLAY_NAME,\n",
    "        model_name=model.resource_name,\n",
    "        model_version_id=MODEL_VERSION_ID\n",
    "    )\n",
    "\n",
    "    MODEL_MONITOR_RESOURCE_NAME = my_model_monitor.name\n",
    "    print(f\"MODEL MONITOR {MODEL_MONITOR_RESOURCE_NAME} created.\")\n",
    "    \n",
    "else:\n",
    "    # here\n",
    "    # # initialie an existing resoruce\n",
    "    MONITORING_RESOURCE_NAME = 'projects/934903580331/locations/us-central1/modelMonitors/6475754051693707264'\n",
    "    my_model_monitor = model_monitor.ModelMonitor(MONITORING_RESOURCE_NAME)"
   ]
  },
  {
   "cell_type": "markdown",
   "metadata": {},
   "source": [
    "pause a schedule"
   ]
  },
  {
   "cell_type": "code",
   "execution_count": 18,
   "metadata": {},
   "outputs": [],
   "source": [
    "# my_model_monitor.pause_schedule('projects/934903580331/locations/us-central1/schedules/1241779636317192192')"
   ]
  },
  {
   "cell_type": "markdown",
   "metadata": {},
   "source": [
    "delete schedules & jobs"
   ]
  },
  {
   "cell_type": "code",
   "execution_count": 19,
   "metadata": {},
   "outputs": [],
   "source": [
    "# my_model_monitor.delete_schedule(SCHEDULE_RESOURCE_NAME)\n",
    "# my_model_monitor.delete_all_model_monitoring_jobs()\n",
    "# my_model_monitor.delete()"
   ]
  },
  {
   "cell_type": "markdown",
   "metadata": {
    "id": "uPsDU3srlzW3"
   },
   "source": [
    "## Step 6: Schedule Continous Model Monitoring"
   ]
  },
  {
   "cell_type": "code",
   "execution_count": 20,
   "metadata": {},
   "outputs": [
    {
     "name": "stdout",
     "output_type": "stream",
     "text": [
      "SKEW_THRESHOLDS      : {'cnt_ad_reward': 0.001, 'cnt_level_complete_quickplay': 0.001, 'cnt_level_reset_quickplay': 0.001, 'cnt_post_score': 0.001, 'cnt_user_engagement': 0.001, 'country': 0.001}\n",
      "\n"
     ]
    }
   ],
   "source": [
    "# feature_names\n",
    "feature_names = [\n",
    "      \"cnt_ad_reward\",\n",
    "      # \"cnt_challenge_a_friend\",\n",
    "      # \"cnt_completed_5_levels\",\n",
    "      \"cnt_level_complete_quickplay\",\n",
    "      # \"cnt_level_end_quickplay\",\n",
    "      \"cnt_level_reset_quickplay\",\n",
    "      # \"cnt_level_start_quickplay\",\n",
    "      \"cnt_post_score\",\n",
    "      # \"cnt_spend_virtual_currency\",\n",
    "      # \"cnt_use_extra_steps\",\n",
    "      \"cnt_user_engagement\",\n",
    "      \"country\",\n",
    "      # \"dayofweek\",\n",
    "      # \"julianday\",\n",
    "      # \"language\",\n",
    "      # \"month\",\n",
    "      # \"operating_system\",\n",
    "      # \"user_pseudo_id\",\n",
    "]\n",
    "\n",
    "DEFAULT_THRESHOLD_VALUE = 0.001\n",
    "DRIFT_THRESHOLD_VALUE = 0.001\n",
    "ATTRIBUTION_DRIFT_THRESHOLD_VALUE = 0.001\n",
    "\n",
    "# =========================== #\n",
    "##   Feature value drift     ##\n",
    "# =========================== #\n",
    "SKEW_THRESHOLDS = dict()\n",
    "\n",
    "for feature in feature_names:\n",
    "    if feature in SKEW_THRESHOLDS:\n",
    "        print(\"feature name already in dict\")\n",
    "    else:\n",
    "        SKEW_THRESHOLDS[feature] = DEFAULT_THRESHOLD_VALUE\n",
    "        \n",
    "print(f\"SKEW_THRESHOLDS      : {SKEW_THRESHOLDS}\\n\")"
   ]
  },
  {
   "cell_type": "code",
   "execution_count": 21,
   "metadata": {
    "id": "JMjhTEG2AHzx"
   },
   "outputs": [],
   "source": [
    "# URI to training dataset.\n",
    "DATASET_BQ_URI = \"bq://mco-mm.bqmlga4.train\"\n",
    "\n",
    "# Prediction target column name in training dataset.\n",
    "GROUND_TRUTH = \"churned\"\n",
    "\n",
    "EMAIL = \"jordantotten@google.com\"\n",
    "\n",
    "# cron schedule; \n",
    "# Every 1 hour at :35, for example 1:00, 2:00..\n",
    "CRON                  =\"30 * * * *\"                  \n",
    "DATA_WINDOW           =\"1h\"\n",
    "SCHEDULE_DISPLAY_NAME =\"churn-continous-skew-detection\""
   ]
  },
  {
   "cell_type": "code",
   "execution_count": 22,
   "metadata": {
    "id": "S-3ilL5-03k8"
   },
   "outputs": [
    {
     "name": "stdout",
     "output_type": "stream",
     "text": [
      "Schedule projects/934903580331/locations/us-central1/schedules/108772486312624128 created.\n"
     ]
    }
   ],
   "source": [
    "if CREATE_NEW_ASSETS:\n",
    "    \n",
    "    model_monitoring_schedule=my_model_monitor.create_schedule(\n",
    "        display_name=SCHEDULE_DISPLAY_NAME,\n",
    "        cron=CRON,\n",
    "        objective_config=model_monitor.spec.ObjectiveSpec(\n",
    "            baseline=model_monitor.spec.MonitoringInput(\n",
    "                table_uri=DATASET_BQ_URI,\n",
    "                ground_truth_field=GROUND_TRUTH\n",
    "            ),\n",
    "            target=model_monitor.spec.MonitoringInput(\n",
    "                endpoints=[endpoint.resource_name]\n",
    "            ),\n",
    "            feature_distribution_skew=model_monitor.spec.SkewSpec(\n",
    "                default_threshold=DEFAULT_THRESHOLD_VALUE,\n",
    "                feature_thresholds=SKEW_THRESHOLDS,\n",
    "                window=DATA_WINDOW\n",
    "            ),\n",
    "            feature_distribution_drift=model_monitor.spec.DriftSpec(\n",
    "                default_threshold=DEFAULT_THRESHOLD_VALUE,\n",
    "                feature_thresholds=SKEW_THRESHOLDS,\n",
    "                window=DATA_WINDOW\n",
    "            ),\n",
    "        ),\n",
    "        notification_config=model_monitor.spec.NotificationSpec(\n",
    "            user_emails=[EMAIL],\n",
    "        ),\n",
    "        output_config=model_monitor.spec.OutputSpec(\n",
    "            gcs_base_dir=BUCKET_URI\n",
    "        )\n",
    "    )\n",
    "\n",
    "    SCHEDULE_RESOURCE_NAME = model_monitoring_schedule.name\n",
    "    print(f\"Schedule {SCHEDULE_RESOURCE_NAME} created.\")"
   ]
  },
  {
   "cell_type": "markdown",
   "metadata": {
    "id": "nL10YABxl47v"
   },
   "source": [
    "## Step 7: Send skewed and drifting traffic to validate job config"
   ]
  },
  {
   "cell_type": "markdown",
   "metadata": {
    "id": "yOJgAWNHxesY"
   },
   "source": [
    "Note: If no data is fetched in the model monitoring job, the job will still be marked as successful but no metrics are generated.\n",
    "You could continously send more prediction traffic as Step 4 mentioned."
   ]
  },
  {
   "cell_type": "code",
   "execution_count": null,
   "metadata": {},
   "outputs": [],
   "source": [
    "#f\"bq://hybrid-vertex.churn_production_v5.req_resp\""
   ]
  },
  {
   "cell_type": "markdown",
   "metadata": {},
   "source": [
    "### Simulate Endpoint traffic"
   ]
  },
  {
   "cell_type": "code",
   "execution_count": 23,
   "metadata": {},
   "outputs": [
    {
     "name": "stdout",
     "output_type": "stream",
     "text": [
      "DATASET_BQ_URI[5:] mco-mm.bqmlga4.train\n"
     ]
    }
   ],
   "source": [
    "TARGET = \"churned\"\n",
    "\n",
    "DATASET_BQ_URI[5:]\n",
    "print(f\"DATASET_BQ_URI[5:] {DATASET_BQ_URI[5:]}\")\n",
    "\n",
    "# # Download the table.\n",
    "# table = bigquery.TableReference.from_string(DATASET_BQ_URI[5:])\n",
    "# rows = bqclient.list_rows(table, max_results=2000)"
   ]
  },
  {
   "cell_type": "code",
   "execution_count": 45,
   "metadata": {},
   "outputs": [],
   "source": [
    "import random\n",
    "\n",
    "def monitoring_test(\n",
    "    endpoint, table, \n",
    "    max_rows=1000, \n",
    "    count=1, \n",
    "    seconds=3, \n",
    "    interval=250, \n",
    "    multiplier=2,\n",
    "    country_list=[],\n",
    "    # perturb_num={}\n",
    "):\n",
    "    start_time = time.time()\n",
    "    total_requests = 0\n",
    "    # multiplier     = 3\n",
    "    \n",
    "    for i in range(1, count):\n",
    "        \n",
    "        start_time_iter = time.time()\n",
    "        print(f\"Start iteration : {i} of {count}\")\n",
    "        print(f\"multiplier      : {multiplier}\")\n",
    "        \n",
    "        rows = bq_client.list_rows(table, max_results=max_rows)\n",
    "        instances = []\n",
    "        \n",
    "        for row in rows:\n",
    "            instance = {}\n",
    "            for key, value in row.items():\n",
    "                if key == TARGET:\n",
    "                    continue\n",
    "                if value is None:\n",
    "                    value = \"\"\n",
    "                instance[key] = value\n",
    "            \n",
    "            instance['cnt_ad_reward'] = instance['cnt_ad_reward'] * multiplier\n",
    "            instance['cnt_level_complete_quickplay'] = instance['cnt_level_complete_quickplay'] * multiplier\n",
    "            instance['cnt_level_end_quickplay'] = instance['cnt_level_end_quickplay'] * multiplier\n",
    "            instance['cnt_level_reset_quickplay'] = instance['cnt_level_reset_quickplay'] * multiplier\n",
    "            instance['cnt_level_start_quickplay'] = instance['cnt_level_start_quickplay'] * multiplier\n",
    "            instance['cnt_post_score'] = instance['cnt_post_score'] * multiplier\n",
    "            instance['cnt_user_engagement'] = instance['cnt_user_engagement'] * multiplier\n",
    "            instance['country'] = random.choice(country_list)\n",
    "            \n",
    "            instances.append(instance)\n",
    "           \n",
    "        # predict with instances\n",
    "        print(f\"sending skewed traffic...\")\n",
    "        pred_count = 0\n",
    "        for instance in instances:\n",
    "            response = endpoint.predict(instances=[instance])\n",
    "            pred_count+=1\n",
    "            # Print progress\n",
    "            if pred_count % interval == 0:\n",
    "                print(f\" sent: {pred_count} requests\")\n",
    "        \n",
    "        multiplier+=1\n",
    "        total_requests+=len(instances)       \n",
    "        print(f\"End iteration : {i}\")\n",
    "        print(f\"\\ntotal_requests  : {total_requests}\\n\")\n",
    "        time.sleep(seconds)\n",
    "    \n",
    "    end_time = time.time()\n",
    "    full_runtime_mins = int((end_time - start_time) / 60)\n",
    "    print(f\"full_runtime_mins: {full_runtime_mins}\")"
   ]
  },
  {
   "cell_type": "code",
   "execution_count": 46,
   "metadata": {
    "tags": []
   },
   "outputs": [
    {
     "name": "stdout",
     "output_type": "stream",
     "text": [
      "Start iteration : 1 of 5\n",
      "multiplier      : 0.25\n",
      "sending skewed traffic...\n",
      " sent: 1000 requests\n",
      " sent: 2000 requests\n",
      " sent: 3000 requests\n",
      " sent: 4000 requests\n",
      "End iteration : 1\n",
      "\n",
      "total_requests  : 4000\n",
      "\n",
      "Start iteration : 2 of 5\n",
      "multiplier      : 1.25\n",
      "sending skewed traffic...\n",
      " sent: 1000 requests\n",
      " sent: 2000 requests\n",
      " sent: 3000 requests\n",
      " sent: 4000 requests\n",
      "End iteration : 2\n",
      "\n",
      "total_requests  : 8000\n",
      "\n",
      "Start iteration : 3 of 5\n",
      "multiplier      : 2.25\n",
      "sending skewed traffic...\n",
      " sent: 1000 requests\n",
      " sent: 2000 requests\n",
      " sent: 3000 requests\n",
      " sent: 4000 requests\n",
      "End iteration : 3\n",
      "\n",
      "total_requests  : 12000\n",
      "\n",
      "Start iteration : 4 of 5\n",
      "multiplier      : 3.25\n",
      "sending skewed traffic...\n",
      " sent: 1000 requests\n",
      " sent: 2000 requests\n",
      " sent: 3000 requests\n",
      " sent: 4000 requests\n",
      "End iteration : 4\n",
      "\n",
      "total_requests  : 16000\n",
      "\n",
      "full_runtime_mins: 3\n"
     ]
    }
   ],
   "source": [
    "# interations\n",
    "ITER_COUNT = 5\n",
    "\n",
    "# instances per interation\n",
    "MAX_ROWS   = 4000\n",
    "\n",
    "# print interval\n",
    "INTERVAL   = MAX_ROWS/4  \n",
    "\n",
    "# seconds to pause\n",
    "SLEEP_TIME = 5\n",
    "\n",
    "table = bigquery.TableReference.from_string(DATASET_BQ_URI[5:])\n",
    "\n",
    "SUBSET_COUNTRY_LIST = [\n",
    "    # 'Australia', 'Philippines', \n",
    "    'South Africa', 'Vietnam'\n",
    "]\n",
    "\n",
    "MULTIPLIER = 0.25\n",
    "\n",
    "monitoring_test(\n",
    "    endpoint=endpoint, \n",
    "    table=table, \n",
    "    max_rows=MAX_ROWS, \n",
    "    count=ITER_COUNT, \n",
    "    seconds=SLEEP_TIME,\n",
    "    interval=INTERVAL,\n",
    "    country_list=SUBSET_COUNTRY_LIST,\n",
    "    multiplier=MULTIPLIER,\n",
    "    # perturb_num=PERTURB_NUMERICAL\n",
    ")"
   ]
  },
  {
   "cell_type": "code",
   "execution_count": 39,
   "metadata": {
    "tags": []
   },
   "outputs": [
    {
     "name": "stdout",
     "output_type": "stream",
     "text": [
      "1\n"
     ]
    },
    {
     "data": {
      "text/plain": [
       "'projects/934903580331/locations/us-central1/modelMonitors/1069464174012137472/modelMonitoringJobs/7189363486399397888'"
      ]
     },
     "execution_count": 39,
     "metadata": {},
     "output_type": "execute_result"
    }
   ],
   "source": [
    "# # List the jobs, you would a job if the scheduled one start to run.\n",
    "mm_jobs = my_model_monitor.list_jobs()\n",
    "print(len(mm_jobs))\n",
    "mm_jobs[0].name"
   ]
  },
  {
   "cell_type": "markdown",
   "metadata": {},
   "source": [
    "# Get metrics and visualize job stats"
   ]
  },
  {
   "cell_type": "code",
   "execution_count": 40,
   "metadata": {},
   "outputs": [
    {
     "name": "stdout",
     "output_type": "stream",
     "text": [
      "SCHEDULE_RESOURCE_NAME : projects/934903580331/locations/us-central1/schedules/108772486312624128\n",
      "MODEL_MONITOR_JOB_NAME : projects/934903580331/locations/us-central1/modelMonitors/1069464174012137472/modelMonitoringJobs/7189363486399397888\n"
     ]
    }
   ],
   "source": [
    "SCHEDULE_RESOURCE_NAME = model_monitoring_schedule.name\n",
    "MODEL_MONITOR_JOB_NAME = mm_jobs[0].name\n",
    "\n",
    "print(f\"SCHEDULE_RESOURCE_NAME : {SCHEDULE_RESOURCE_NAME}\")\n",
    "print(f\"MODEL_MONITOR_JOB_NAME : {MODEL_MONITOR_JOB_NAME}\")"
   ]
  },
  {
   "cell_type": "code",
   "execution_count": 29,
   "metadata": {
    "tags": []
   },
   "outputs": [],
   "source": [
    "# Search Stats\n",
    "my_model_monitor.search_metrics(\n",
    "    model_monitoring_schedule=SCHEDULE_RESOURCE_NAME)"
   ]
  },
  {
   "cell_type": "code",
   "execution_count": 47,
   "metadata": {},
   "outputs": [
    {
     "data": {
      "text/html": [
       "<iframe id='facets-iframe' width=\"100%\" height=\"500px\"></iframe>\n",
       "        <script>\n",
       "        facets_iframe = document.getElementById('facets-iframe');\n",
       "        facets_html = '<script src=\"https://cdnjs.cloudflare.com/ajax/libs/webcomponentsjs/1.3.3/webcomponents-lite.js\"><\\/script><link rel=\"import\" href=\"https://raw.githubusercontent.com/PAIR-code/facets/master/facets-dist/facets-jupyter.html\"><facets-overview proto-input=\"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\"></facets-overview>';\n",
       "        facets_iframe.srcdoc = facets_html;\n",
       "         facets_iframe.id = \"\";\n",
       "         setTimeout(() => {\n",
       "           facets_iframe.setAttribute('height', facets_iframe.contentWindow.document.body.offsetHeight + 'px')\n",
       "         }, 1500)\n",
       "         </script>"
      ],
      "text/plain": [
       "<IPython.core.display.HTML object>"
      ]
     },
     "metadata": {},
     "output_type": "display_data"
    },
    {
     "data": {
      "text/html": [
       "<div>\n",
       "<style scoped>\n",
       "    .dataframe tbody tr th:only-of-type {\n",
       "        vertical-align: middle;\n",
       "    }\n",
       "\n",
       "    .dataframe tbody tr th {\n",
       "        vertical-align: top;\n",
       "    }\n",
       "\n",
       "    .dataframe thead th {\n",
       "        text-align: right;\n",
       "    }\n",
       "</style>\n",
       "<table border=\"1\" class=\"dataframe\">\n",
       "  <thead>\n",
       "    <tr style=\"text-align: right;\">\n",
       "      <th></th>\n",
       "      <th>Anomaly short description</th>\n",
       "      <th>Anomaly long description</th>\n",
       "    </tr>\n",
       "    <tr>\n",
       "      <th>Feature name</th>\n",
       "      <th></th>\n",
       "      <th></th>\n",
       "    </tr>\n",
       "  </thead>\n",
       "  <tbody>\n",
       "    <tr>\n",
       "      <th>'operating_system'</th>\n",
       "      <td>High Linfty distance between training and serving</td>\n",
       "      <td>The Linfty distance between training and serving is 0.4883 (up to six significant digits), above the threshold 0.001. The feature value with maximum difference is: ANDROID</td>\n",
       "    </tr>\n",
       "    <tr>\n",
       "      <th>'cnt_user_engagement'</th>\n",
       "      <td>High approximate Jensen-Shannon divergence between training and serving</td>\n",
       "      <td>The approximate Jensen-Shannon divergence between training and serving is 0.467165 (up to six significant digits), above the threshold 0.001.</td>\n",
       "    </tr>\n",
       "    <tr>\n",
       "      <th>'cnt_level_end_quickplay'</th>\n",
       "      <td>High approximate Jensen-Shannon divergence between training and serving</td>\n",
       "      <td>The approximate Jensen-Shannon divergence between training and serving is 0.567952 (up to six significant digits), above the threshold 0.001.</td>\n",
       "    </tr>\n",
       "    <tr>\n",
       "      <th>'cnt_level_start_quickplay'</th>\n",
       "      <td>High approximate Jensen-Shannon divergence between training and serving</td>\n",
       "      <td>The approximate Jensen-Shannon divergence between training and serving is 0.57507 (up to six significant digits), above the threshold 0.001.</td>\n",
       "    </tr>\n",
       "    <tr>\n",
       "      <th>'cnt_ad_reward'</th>\n",
       "      <td>High approximate Jensen-Shannon divergence between training and serving</td>\n",
       "      <td>The approximate Jensen-Shannon divergence between training and serving is 0.510518 (up to six significant digits), above the threshold 0.001.</td>\n",
       "    </tr>\n",
       "    <tr>\n",
       "      <th>'language'</th>\n",
       "      <td>High Linfty distance between training and serving</td>\n",
       "      <td>The Linfty distance between training and serving is 0.0416933 (up to six significant digits), above the threshold 0.001. The feature value with maximum difference is: en-gb</td>\n",
       "    </tr>\n",
       "    <tr>\n",
       "      <th>'cnt_completed_5_levels'</th>\n",
       "      <td>High approximate Jensen-Shannon divergence between training and serving</td>\n",
       "      <td>The approximate Jensen-Shannon divergence between training and serving is 0.322667 (up to six significant digits), above the threshold 0.001.</td>\n",
       "    </tr>\n",
       "    <tr>\n",
       "      <th>'cnt_level_reset_quickplay'</th>\n",
       "      <td>High approximate Jensen-Shannon divergence between training and serving</td>\n",
       "      <td>The approximate Jensen-Shannon divergence between training and serving is 0.590121 (up to six significant digits), above the threshold 0.001.</td>\n",
       "    </tr>\n",
       "    <tr>\n",
       "      <th>'cnt_use_extra_steps'</th>\n",
       "      <td>High approximate Jensen-Shannon divergence between training and serving</td>\n",
       "      <td>The approximate Jensen-Shannon divergence between training and serving is 0.201525 (up to six significant digits), above the threshold 0.001.</td>\n",
       "    </tr>\n",
       "    <tr>\n",
       "      <th>'country'</th>\n",
       "      <td>High Linfty distance between training and serving</td>\n",
       "      <td>The Linfty distance between training and serving is 0.599843 (up to six significant digits), above the threshold 0.001. The feature value with maximum difference is: United States</td>\n",
       "    </tr>\n",
       "    <tr>\n",
       "      <th>'cnt_spend_virtual_currency'</th>\n",
       "      <td>High approximate Jensen-Shannon divergence between training and serving</td>\n",
       "      <td>The approximate Jensen-Shannon divergence between training and serving is 0.191454 (up to six significant digits), above the threshold 0.001.</td>\n",
       "    </tr>\n",
       "    <tr>\n",
       "      <th>'user_pseudo_id'</th>\n",
       "      <td>High Linfty distance between training and serving</td>\n",
       "      <td>The Linfty distance between training and serving is 0.106061 (up to six significant digits), above the threshold 0.001. The feature value with maximum difference is: 663442AC9FDA044B9549E5DBE9164FE3</td>\n",
       "    </tr>\n",
       "    <tr>\n",
       "      <th>'cnt_challenge_a_friend'</th>\n",
       "      <td>High approximate Jensen-Shannon divergence between training and serving</td>\n",
       "      <td>The approximate Jensen-Shannon divergence between training and serving is 0.581147 (up to six significant digits), above the threshold 0.001.</td>\n",
       "    </tr>\n",
       "    <tr>\n",
       "      <th>'cnt_post_score'</th>\n",
       "      <td>High approximate Jensen-Shannon divergence between training and serving</td>\n",
       "      <td>The approximate Jensen-Shannon divergence between training and serving is 0.576722 (up to six significant digits), above the threshold 0.001.</td>\n",
       "    </tr>\n",
       "    <tr>\n",
       "      <th>'cnt_level_complete_quickplay'</th>\n",
       "      <td>High approximate Jensen-Shannon divergence between training and serving</td>\n",
       "      <td>The approximate Jensen-Shannon divergence between training and serving is 0.584573 (up to six significant digits), above the threshold 0.001.</td>\n",
       "    </tr>\n",
       "    <tr>\n",
       "      <th>'julianday'</th>\n",
       "      <td>High approximate Jensen-Shannon divergence between training and serving</td>\n",
       "      <td>The approximate Jensen-Shannon divergence between training and serving is 0.0172551 (up to six significant digits), above the threshold 0.001.</td>\n",
       "    </tr>\n",
       "    <tr>\n",
       "      <th>'month'</th>\n",
       "      <td>High approximate Jensen-Shannon divergence between training and serving</td>\n",
       "      <td>The approximate Jensen-Shannon divergence between training and serving is 0.0124695 (up to six significant digits), above the threshold 0.001.</td>\n",
       "    </tr>\n",
       "  </tbody>\n",
       "</table>\n",
       "</div>"
      ],
      "text/plain": [
       "                                                                              Anomaly short description  \\\n",
       "Feature name                                                                                              \n",
       "'operating_system'                                    High Linfty distance between training and serving   \n",
       "'cnt_user_engagement'           High approximate Jensen-Shannon divergence between training and serving   \n",
       "'cnt_level_end_quickplay'       High approximate Jensen-Shannon divergence between training and serving   \n",
       "'cnt_level_start_quickplay'     High approximate Jensen-Shannon divergence between training and serving   \n",
       "'cnt_ad_reward'                 High approximate Jensen-Shannon divergence between training and serving   \n",
       "'language'                                            High Linfty distance between training and serving   \n",
       "'cnt_completed_5_levels'        High approximate Jensen-Shannon divergence between training and serving   \n",
       "'cnt_level_reset_quickplay'     High approximate Jensen-Shannon divergence between training and serving   \n",
       "'cnt_use_extra_steps'           High approximate Jensen-Shannon divergence between training and serving   \n",
       "'country'                                             High Linfty distance between training and serving   \n",
       "'cnt_spend_virtual_currency'    High approximate Jensen-Shannon divergence between training and serving   \n",
       "'user_pseudo_id'                                      High Linfty distance between training and serving   \n",
       "'cnt_challenge_a_friend'        High approximate Jensen-Shannon divergence between training and serving   \n",
       "'cnt_post_score'                High approximate Jensen-Shannon divergence between training and serving   \n",
       "'cnt_level_complete_quickplay'  High approximate Jensen-Shannon divergence between training and serving   \n",
       "'julianday'                     High approximate Jensen-Shannon divergence between training and serving   \n",
       "'month'                         High approximate Jensen-Shannon divergence between training and serving   \n",
       "\n",
       "                                                                                                                                                                                                              Anomaly long description  \n",
       "Feature name                                                                                                                                                                                                                            \n",
       "'operating_system'                                         The Linfty distance between training and serving is 0.4883 (up to six significant digits), above the threshold 0.001. The feature value with maximum difference is: ANDROID  \n",
       "'cnt_user_engagement'                                                                    The approximate Jensen-Shannon divergence between training and serving is 0.467165 (up to six significant digits), above the threshold 0.001.  \n",
       "'cnt_level_end_quickplay'                                                                The approximate Jensen-Shannon divergence between training and serving is 0.567952 (up to six significant digits), above the threshold 0.001.  \n",
       "'cnt_level_start_quickplay'                                                               The approximate Jensen-Shannon divergence between training and serving is 0.57507 (up to six significant digits), above the threshold 0.001.  \n",
       "'cnt_ad_reward'                                                                          The approximate Jensen-Shannon divergence between training and serving is 0.510518 (up to six significant digits), above the threshold 0.001.  \n",
       "'language'                                                The Linfty distance between training and serving is 0.0416933 (up to six significant digits), above the threshold 0.001. The feature value with maximum difference is: en-gb  \n",
       "'cnt_completed_5_levels'                                                                 The approximate Jensen-Shannon divergence between training and serving is 0.322667 (up to six significant digits), above the threshold 0.001.  \n",
       "'cnt_level_reset_quickplay'                                                              The approximate Jensen-Shannon divergence between training and serving is 0.590121 (up to six significant digits), above the threshold 0.001.  \n",
       "'cnt_use_extra_steps'                                                                    The approximate Jensen-Shannon divergence between training and serving is 0.201525 (up to six significant digits), above the threshold 0.001.  \n",
       "'country'                                          The Linfty distance between training and serving is 0.599843 (up to six significant digits), above the threshold 0.001. The feature value with maximum difference is: United States  \n",
       "'cnt_spend_virtual_currency'                                                             The approximate Jensen-Shannon divergence between training and serving is 0.191454 (up to six significant digits), above the threshold 0.001.  \n",
       "'user_pseudo_id'                The Linfty distance between training and serving is 0.106061 (up to six significant digits), above the threshold 0.001. The feature value with maximum difference is: 663442AC9FDA044B9549E5DBE9164FE3  \n",
       "'cnt_challenge_a_friend'                                                                 The approximate Jensen-Shannon divergence between training and serving is 0.581147 (up to six significant digits), above the threshold 0.001.  \n",
       "'cnt_post_score'                                                                         The approximate Jensen-Shannon divergence between training and serving is 0.576722 (up to six significant digits), above the threshold 0.001.  \n",
       "'cnt_level_complete_quickplay'                                                           The approximate Jensen-Shannon divergence between training and serving is 0.584573 (up to six significant digits), above the threshold 0.001.  \n",
       "'julianday'                                                                             The approximate Jensen-Shannon divergence between training and serving is 0.0172551 (up to six significant digits), above the threshold 0.001.  \n",
       "'month'                                                                                 The approximate Jensen-Shannon divergence between training and serving is 0.0124695 (up to six significant digits), above the threshold 0.001.  "
      ]
     },
     "metadata": {},
     "output_type": "display_data"
    }
   ],
   "source": [
    "my_model_monitor.show_skew_stats(\n",
    "    model_monitoring_job_name=MODEL_MONITOR_JOB_NAME\n",
    ")"
   ]
  },
  {
   "cell_type": "code",
   "execution_count": null,
   "metadata": {},
   "outputs": [],
   "source": []
  },
  {
   "cell_type": "markdown",
   "metadata": {
    "id": "hovSbsmBmEKZ",
    "jp-MarkdownHeadingCollapsed": true,
    "tags": []
   },
   "source": [
    "# Clean Up"
   ]
  },
  {
   "cell_type": "markdown",
   "metadata": {
    "id": "MFZcBnwsdSfa"
   },
   "source": [
    "### Verify Output GCS bucket after job is finished"
   ]
  },
  {
   "cell_type": "code",
   "execution_count": null,
   "metadata": {
    "id": "XM71_79p80Gu"
   },
   "outputs": [],
   "source": [
    "# jobs=my_model_monitor.list_jobs()\n",
    "# jobs"
   ]
  },
  {
   "cell_type": "markdown",
   "metadata": {
    "id": "A4oxq27Txi63"
   },
   "source": [
    "Note: If there is no data fecthed in the job, there will no output metrics"
   ]
  },
  {
   "cell_type": "code",
   "execution_count": null,
   "metadata": {
    "id": "_LOUSYlP9G8H"
   },
   "outputs": [],
   "source": [
    "# # Enter the interested job resource name.\n",
    "# CMM_JOB_RESOURCE_NAME=\"[job-resource-name]\" # @param {type:\"string\"}\n",
    "# example_job=CMM_JOB_RESOURCE_NAME\n",
    "# if example_job == \"[job-resource-name]\" and len(jobs):\n",
    "#     example_job=jobs[0].name\n",
    "\n",
    "# print(f\"Result for job {example_job}:\")\n",
    "# my_model_monitor.show_skew_stats(model_monitoring_job_name=example_job)"
   ]
  },
  {
   "cell_type": "code",
   "execution_count": 79,
   "metadata": {},
   "outputs": [
    {
     "data": {
      "text/plain": [
       "<google.cloud.aiplatform.private_preview.centralized_model_monitoring.model_monitor.model_monitors.ModelMonitor object at 0x7f6f67b5e7d0> \n",
       "resource name: projects/934903580331/locations/us-central1/modelMonitors/7483152993341145088"
      ]
     },
     "execution_count": 79,
     "metadata": {},
     "output_type": "execute_result"
    }
   ],
   "source": [
    "# MONITORING_RESOURCE_NAME = 'projects/934903580331/locations/us-central1/modelMonitors/7483152993341145088'\n",
    "\n",
    "# model_monitor_clean = model_monitor.ModelMonitor(MONITORING_RESOURCE_NAME)\n",
    "# model_monitor_clean"
   ]
  },
  {
   "cell_type": "code",
   "execution_count": 85,
   "metadata": {},
   "outputs": [
    {
     "name": "stdout",
     "output_type": "stream",
     "text": [
      "Deleting ModelMonitor : projects/934903580331/locations/us-central1/modelMonitors/7483152993341145088\n",
      "Delete ModelMonitor  backing LRO: projects/934903580331/locations/us-central1/operations/5041532324005543936\n",
      "ModelMonitor deleted. . Resource name: projects/934903580331/locations/us-central1/modelMonitors/7483152993341145088\n"
     ]
    }
   ],
   "source": [
    "# SCHEDULE_NAME = \"projects/934903580331/locations/us-central1/schedules/9054962039851581440\"\n",
    "\n",
    "# model_monitor_clean.delete_schedule(SCHEDULE_NAME)\n",
    "\n",
    "# model_monitor_clean.delete_all_model_monitoring_jobs()\n",
    "# model_monitor_clean.delete()"
   ]
  },
  {
   "cell_type": "code",
   "execution_count": 86,
   "metadata": {},
   "outputs": [],
   "source": [
    "# model_monitor_clean.list_jobs()"
   ]
  },
  {
   "cell_type": "code",
   "execution_count": null,
   "metadata": {
    "id": "ejHg5PqiJPS2"
   },
   "outputs": [],
   "source": [
    "# from google.cloud import bigquery\n",
    "\n",
    "# # When no jobs are running, delete the schedule and all the jobs.\n",
    "# my_model_monitor.delete_schedule(SCHEDULE_RESOURCE_NAME)\n",
    "# my_model_monitor.delete_all_model_monitoring_jobs()\n",
    "# my_model_monitor.delete()\n",
    "\n",
    "# # Undeploy the model and delete the endpoint\n",
    "# endpoint.undeploy_all()\n",
    "# endpoint.delete()\n",
    "\n",
    "# # Delete the model\n",
    "# model.delete()\n",
    "\n",
    "# # Delete BQ logging table\n",
    "# bqclient = bigquery.Client(project=PROJECT_ID)\n",
    "# # Delete the dataset (including all tables)\n",
    "# bqclient.delete_dataset(BQ_LOGGING_DATASET, delete_contents=True, not_found_ok=True)"
   ]
  }
 ],
 "metadata": {
  "colab": {
   "provenance": []
  },
  "environment": {
   "kernel": "python3",
   "name": "tf2-gpu.2-13.m112",
   "type": "gcloud",
   "uri": "gcr.io/deeplearning-platform-release/tf2-gpu.2-13:m112"
  },
  "kernelspec": {
   "display_name": "Python 3",
   "language": "python",
   "name": "python3"
  },
  "language_info": {
   "codemirror_mode": {
    "name": "ipython",
    "version": 3
   },
   "file_extension": ".py",
   "mimetype": "text/x-python",
   "name": "python",
   "nbconvert_exporter": "python",
   "pygments_lexer": "ipython3",
   "version": "3.10.12"
  }
 },
 "nbformat": 4,
 "nbformat_minor": 4
}
