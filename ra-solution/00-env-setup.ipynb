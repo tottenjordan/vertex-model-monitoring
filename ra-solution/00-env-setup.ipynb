{
 "cells": [
  {
   "cell_type": "markdown",
   "id": "14c91279-7796-4595-9cab-1659a0f0be9e",
   "metadata": {},
   "source": [
    "# Environment Setup for Vertex Model Monitoring with Tensorflow models"
   ]
  },
  {
   "cell_type": "markdown",
   "id": "2e3a0258-f9e0-4166-b029-fb2cf433225e",
   "metadata": {},
   "source": [
    "## Install Packages\n",
    "Run `pip requirements.txt` in either (1) the notebook cell below or (2) in a notebook terminal window\n",
    "\n",
    "> **TODO**"
   ]
  },
  {
   "cell_type": "code",
   "execution_count": 1,
   "id": "6c547ecb-e952-4cea-8a65-ec995ff25f5e",
   "metadata": {},
   "outputs": [],
   "source": [
    "import os\n",
    "\n",
    "# The Vertex AI Workbench Notebook product has specific requirements\n",
    "IS_WORKBENCH_NOTEBOOK = os.getenv(\"DL_ANACONDA_HOME\")\n",
    "IS_USER_MANAGED_WORKBENCH_NOTEBOOK = os.path.exists(\n",
    "    \"/opt/deeplearning/metadata/env_version\"\n",
    ")\n",
    "\n",
    "# Vertex AI Notebook requires dependencies to be installed with '--user'\n",
    "USER_FLAG = \"\"\n",
    "if IS_WORKBENCH_NOTEBOOK:\n",
    "    USER_FLAG = \"--user\"\n",
    "\n",
    "# !pip install --no-cache-dir -r ./requirements.txt --user -q"
   ]
  },
  {
   "cell_type": "markdown",
   "id": "5746d2df-889c-4451-8b28-bce820f02456",
   "metadata": {},
   "source": [
    "## set vars"
   ]
  },
  {
   "cell_type": "code",
   "execution_count": 2,
   "id": "4a38526d-83db-42a2-b7af-cad7b3e60bb4",
   "metadata": {},
   "outputs": [
    {
     "name": "stdout",
     "output_type": "stream",
     "text": [
      "PREFIX = ra-vmm-v1\n"
     ]
    }
   ],
   "source": [
    "# naming convention for all cloud resources\n",
    "VERSION        = \"v1\"              # TODO\n",
    "PREFIX         = f'ra-vmm-{VERSION}'   # TODO\n",
    "\n",
    "print(f\"PREFIX = {PREFIX}\")"
   ]
  },
  {
   "cell_type": "markdown",
   "id": "a0459e37-d9ae-4232-965f-b3f3b642120a",
   "metadata": {},
   "source": [
    "### GCP project"
   ]
  },
  {
   "cell_type": "code",
   "execution_count": 3,
   "id": "06950aa4-122a-41bd-b241-54a9f516fa65",
   "metadata": {},
   "outputs": [
    {
     "name": "stdout",
     "output_type": "stream",
     "text": [
      "PROJECT_ID       = hybrid-vertex\n",
      "PROJECT_NUM      = 934903580331\n",
      "LOCATION         = us-central1\n",
      "REGION           = us-central1\n",
      "BQ_LOCATION      = US\n"
     ]
    }
   ],
   "source": [
    "# creds, PROJECT_ID = google.auth.default()\n",
    "GCP_PROJECTS             = !gcloud config get-value project\n",
    "PROJECT_ID               = GCP_PROJECTS[0]\n",
    "\n",
    "PROJECT_NUM              = !gcloud projects describe $PROJECT_ID --format=\"value(projectNumber)\"\n",
    "PROJECT_NUM              = PROJECT_NUM[0]\n",
    "\n",
    "VERTEX_SA                = f'{PROJECT_NUM}-compute@developer.gserviceaccount.com'\n",
    "\n",
    "# locations / regions for cloud resources\n",
    "LOCATION                 = 'us-central1'        \n",
    "REGION                   = LOCATION\n",
    "BQ_LOCATION              = 'US'\n",
    "\n",
    "print(f\"PROJECT_ID       = {PROJECT_ID}\")\n",
    "print(f\"PROJECT_NUM      = {PROJECT_NUM}\")\n",
    "print(f\"LOCATION         = {LOCATION}\")\n",
    "print(f\"REGION           = {REGION}\")\n",
    "print(f\"BQ_LOCATION      = {BQ_LOCATION}\")"
   ]
  },
  {
   "cell_type": "markdown",
   "id": "2a3bf0bc-5708-4c6b-9ac4-e9d33c16d153",
   "metadata": {},
   "source": [
    "## Define Cloud Resource Names and Args"
   ]
  },
  {
   "cell_type": "code",
   "execution_count": 7,
   "id": "ef7b8b3e-be42-4f11-ba21-f287d7e2d286",
   "metadata": {},
   "outputs": [
    {
     "name": "stdout",
     "output_type": "stream",
     "text": [
      "BUCKET_NAME          : ra-vmm-v1-hybrid-vertex-bucket\n",
      "BUCKET_URI           : gs://ra-vmm-v1-hybrid-vertex-bucket\n",
      "DATA_GCS_PREFIX      : data\n",
      "DATA_PATH            : gs://ra-vmm-v1-hybrid-vertex-bucket/data\n",
      "REPOSITORY           : mm-ctp-ra-vmm-v1\n",
      "TRAIN_IMAGE_NAME     : train-ctp-v1\n",
      "REMOTE_IMAGE_NAME    : us-central1-docker.pkg.dev/hybrid-vertex/mm-ctp-ra-vmm-v1/train-ctp-v1\n"
     ]
    }
   ],
   "source": [
    "# GCS bucket and paths\n",
    "BUCKET_NAME              = f'{PREFIX}-{PROJECT_ID}-bucket'\n",
    "BUCKET_URI               = f'gs://{BUCKET_NAME}'\n",
    "\n",
    "# Location to write TF-Records for MovieLens 100K dataset\n",
    "DATA_GCS_PREFIX          = \"data\"\n",
    "DATA_PATH                = f\"{BUCKET_URI}/{DATA_GCS_PREFIX}\"\n",
    "\n",
    "# container registry\n",
    "REPOSITORY                = f'mm-ctp-{PREFIX}'\n",
    "TRAIN_IMAGE_NAME          = f'train-ctp-{VERSION}'\n",
    "REMOTE_IMAGE_NAME         = f\"{REGION}-docker.pkg.dev/{PROJECT_ID}/{REPOSITORY}/{TRAIN_IMAGE_NAME}\"\n",
    "\n",
    "print(f\"BUCKET_NAME          : {BUCKET_NAME}\")\n",
    "print(f\"BUCKET_URI           : {BUCKET_URI}\")\n",
    "print(f\"DATA_GCS_PREFIX      : {DATA_GCS_PREFIX}\")\n",
    "print(f\"DATA_PATH            : {DATA_PATH}\")\n",
    "print(f\"REPOSITORY           : {REPOSITORY}\")\n",
    "print(f\"TRAIN_IMAGE_NAME     : {TRAIN_IMAGE_NAME}\")\n",
    "print(f\"REMOTE_IMAGE_NAME    : {REMOTE_IMAGE_NAME}\")"
   ]
  },
  {
   "cell_type": "code",
   "execution_count": 8,
   "id": "f137c01f-c42e-4cf2-8a52-38401f1f0dcf",
   "metadata": {},
   "outputs": [
    {
     "name": "stdout",
     "output_type": "stream",
     "text": [
      "Creating gs://ra-vmm-v1-hybrid-vertex-bucket/...\n"
     ]
    }
   ],
   "source": [
    "# create bucket\n",
    "! gsutil mb -l $REGION $BUCKET_URI"
   ]
  },
  {
   "cell_type": "code",
   "execution_count": 9,
   "id": "002199fe-a622-4776-ae5a-f5b611cd1c51",
   "metadata": {},
   "outputs": [],
   "source": [
    "! gsutil ls $BUCKET_URI"
   ]
  },
  {
   "cell_type": "markdown",
   "id": "a03aea6b-6fa3-4cfd-af31-995411e5dd1f",
   "metadata": {},
   "source": [
    "# Save Notebook Configuration Data\n",
    "\n",
    "If you want to avoid having to re-enter these across notebooks"
   ]
  },
  {
   "cell_type": "code",
   "execution_count": 11,
   "id": "d3e03d2f-3bd4-403f-b2e5-ca7515633281",
   "metadata": {},
   "outputs": [
    {
     "name": "stdout",
     "output_type": "stream",
     "text": [
      "\n",
      "PROJECT_ID               = \"hybrid-vertex\"\n",
      "PROJECT_NUM              = \"934903580331\"\n",
      "LOCATION                 = \"us-central1\"\n",
      "\n",
      "REGION                   = \"us-central1\"\n",
      "BQ_LOCATION              = \"US\"\n",
      "\n",
      "VERTEX_SA                = \"934903580331-compute@developer.gserviceaccount.com\"\n",
      "\n",
      "PREFIX                   = \"ra-vmm-v1\"\n",
      "VERSION                  = \"v1\"\n",
      "\n",
      "BUCKET_NAME              = \"ra-vmm-v1-hybrid-vertex-bucket\"\n",
      "BUCKET_URI               = \"gs://ra-vmm-v1-hybrid-vertex-bucket\"\n",
      "DATA_GCS_PREFIX          = \"data\"\n",
      "DATA_PATH                = \"gs://ra-vmm-v1-hybrid-vertex-bucket/data\"\n",
      "\n",
      "REPOSITORY               = \"mm-ctp-ra-vmm-v1\"\n",
      "TRAIN_IMAGE_NAME         = \"train-ctp-v1\"\n",
      "REMOTE_IMAGE_NAME        = \"us-central1-docker.pkg.dev/hybrid-vertex/mm-ctp-ra-vmm-v1/train-ctp-v1\"\n",
      "\n"
     ]
    }
   ],
   "source": [
    "config = f\"\"\"\n",
    "PROJECT_ID               = \\\"{PROJECT_ID}\\\"\n",
    "PROJECT_NUM              = \\\"{PROJECT_NUM}\\\"\n",
    "LOCATION                 = \\\"{LOCATION}\\\"\n",
    "\n",
    "REGION                   = \\\"{REGION}\\\"\n",
    "BQ_LOCATION              = \\\"{BQ_LOCATION}\\\"\n",
    "\n",
    "VERTEX_SA                = \\\"{VERTEX_SA}\\\"\n",
    "\n",
    "PREFIX                   = \\\"{PREFIX}\\\"\n",
    "VERSION                  = \\\"{VERSION}\\\"\n",
    "\n",
    "BUCKET_NAME              = \\\"{BUCKET_NAME}\\\"\n",
    "BUCKET_URI               = \\\"{BUCKET_URI}\\\"\n",
    "DATA_GCS_PREFIX          = \\\"{DATA_GCS_PREFIX}\\\"\n",
    "DATA_PATH                = \\\"{DATA_PATH}\\\"\n",
    "\n",
    "REPOSITORY               = \\\"{REPOSITORY}\\\"\n",
    "TRAIN_IMAGE_NAME         = \\\"{TRAIN_IMAGE_NAME}\\\"\n",
    "REMOTE_IMAGE_NAME        = \\\"{REMOTE_IMAGE_NAME}\\\"\n",
    "\"\"\"\n",
    "print(config)"
   ]
  },
  {
   "cell_type": "code",
   "execution_count": 12,
   "id": "6627aa9f-08f0-42e8-b12c-cf20cfa6ddc9",
   "metadata": {},
   "outputs": [
    {
     "name": "stdout",
     "output_type": "stream",
     "text": [
      "Copying from <STDIN>...\n",
      "/ [1 files][    0.0 B/    0.0 B]                                                \n",
      "Operation completed over 1 objects.                                              \n"
     ]
    }
   ],
   "source": [
    "!echo '{config}' | gsutil cp - {BUCKET_URI}/config/notebook_env.py\n"
   ]
  },
  {
   "cell_type": "code",
   "execution_count": 13,
   "id": "dab45180-08e1-4dea-98d6-5e30d1976ab6",
   "metadata": {},
   "outputs": [
    {
     "name": "stdout",
     "output_type": "stream",
     "text": [
      "gs://ra-vmm-v1-hybrid-vertex-bucket/config/\n"
     ]
    }
   ],
   "source": [
    "!gsutil ls $BUCKET_URI"
   ]
  },
  {
   "cell_type": "markdown",
   "id": "5fdd8a18-f164-42e2-a85b-96d65330972a",
   "metadata": {},
   "source": [
    "# gitignore"
   ]
  },
  {
   "cell_type": "code",
   "execution_count": 14,
   "id": "17941a1c-9f78-47e1-b8df-9c95be3a56e4",
   "metadata": {},
   "outputs": [
    {
     "name": "stdout",
     "output_type": "stream",
     "text": [
      "Writing .gitignore\n"
     ]
    }
   ],
   "source": [
    "%%writefile .gitignore\n",
    "*.cpython-310.pyc\n",
    "*checkpoint*\n",
    "*.ipynb_checkpoints/*\n",
    "# .gcloudignore\n",
    "# .git\n",
    "# .github\n",
    "# *__pycache__\n",
    "# *cpython-37.pyc\n",
    "# .gitignore\n",
    "# .DS_Store"
   ]
  },
  {
   "cell_type": "code",
   "execution_count": null,
   "id": "64dc7fe9-575a-4f7c-9176-6594ea1cbe79",
   "metadata": {},
   "outputs": [],
   "source": []
  }
 ],
 "metadata": {
  "environment": {
   "kernel": "python3",
   "name": "tf2-gpu.2-13.m112",
   "type": "gcloud",
   "uri": "gcr.io/deeplearning-platform-release/tf2-gpu.2-13:m112"
  },
  "kernelspec": {
   "display_name": "Python 3",
   "language": "python",
   "name": "python3"
  },
  "language_info": {
   "codemirror_mode": {
    "name": "ipython",
    "version": 3
   },
   "file_extension": ".py",
   "mimetype": "text/x-python",
   "name": "python",
   "nbconvert_exporter": "python",
   "pygments_lexer": "ipython3",
   "version": "3.10.12"
  }
 },
 "nbformat": 4,
 "nbformat_minor": 5
}
